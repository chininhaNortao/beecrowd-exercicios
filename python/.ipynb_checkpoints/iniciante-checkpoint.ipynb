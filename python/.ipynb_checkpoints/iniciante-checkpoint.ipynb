{
 "cells": [
  {
   "cell_type": "markdown",
   "metadata": {},
   "source": [
    "# Problemas Iniciante"
   ]
  },
  {
   "cell_type": "code",
   "execution_count": null,
   "metadata": {},
   "outputs": [],
   "source": [
    "#triangulo 1043\n",
    "A = input().split()\n",
    "\n",
    "a = float(A[0])\n",
    "b = float(A[1])\n",
    "c = float(A[2])\n",
    "\n",
    "if a < b + c and b < c + a and c < a + b:\n",
    "    resultado = a + b + c\n",
    "    print('Perimetro = {:.1f}'.format(resultado))\n",
    "else:\n",
    "    area = round(((a+b)/2)*c,1)\n",
    "    print(\"Area = {}\".format(area))"
   ]
  },
  {
   "cell_type": "code",
   "execution_count": null,
   "metadata": {},
   "outputs": [],
   "source": [
    "# 1045 - Tipos de Triângulos\n",
    "A = input().split()\n",
    "lista = []\n",
    "for num in A:\n",
    "    num = float(num)\n",
    "    lista.append(num)\n",
    "\n",
    "for j in range(1,len(lista)):\n",
    "    chave = lista[j]\n",
    "    i = j-1\n",
    "    while i>=0 and chave<lista[i]:\n",
    "        lista[i+1] = lista[i]\n",
    "        i = i - 1\n",
    "    lista[i+1] = chave\n",
    "\n",
    "a = lista[2]\n",
    "b = lista[1]\n",
    "c = lista[0]\n",
    "for teste in range(0,1):\n",
    "    if a >= (b+c):\n",
    "        print(\"NAO FORMA TRIANGULO\")\n",
    "        break\n",
    "    if (a**2) == ((b**2)+(c**2)):\n",
    "        print(\"TRIANGULO RETANGULO\")\n",
    "    if (a**2) > ((b**2)+(c**2)):\n",
    "        print(\"TRIANGULO OBTUSANGULO\")\n",
    "    if (a**2) < ((b**2)+(c**2)):\n",
    "        print(\"TRIANGULO ACUTANGULO\")\n",
    "    if a == b and a == c and b == c:\n",
    "        print(\"TRIANGULO EQUILATERO\")\n",
    "    for i in range(0,3):\n",
    "        if a == b or a == c:\n",
    "            if b != c:\n",
    "                print(\"TRIANGULO ISOSCELES\")\n",
    "                break\n",
    "        if b == c or b == a:\n",
    "            if a != c:\n",
    "                print(\"TRIANGULO ISOSCELES\")\n",
    "                break\n",
    "        if c == a or c == b:\n",
    "            if b != a:\n",
    "                print(\"TRIANGULO ISOSCELES\")\n",
    "                break"
   ]
  },
  {
   "cell_type": "code",
   "execution_count": null,
   "metadata": {},
   "outputs": [],
   "source": [
    "# Exercicio 1046\n",
    "A = input().split()\n",
    "\n",
    "a = int(A[0])\n",
    "b = int(A[1])\n",
    "\n",
    "if a > b:\n",
    "    hora = (24 - a) + b\n",
    "    print(\"O JOGO DUROU {} HORA(S)\".format(hora))\n",
    "elif a < b:\n",
    "    hora = b - a\n",
    "    print(\"O JOGO DUROU {} HORA(S)\".format(hora))\n",
    "elif a == b:\n",
    "    print(\"O JOGO DUROU 24 HORA(S)\")"
   ]
  },
  {
   "cell_type": "code",
   "execution_count": null,
   "metadata": {},
   "outputs": [],
   "source": [
    "# exercicio 1047\n",
    "A = input().split()\n",
    "\n",
    "horaA = int(A[0])\n",
    "minA = int(A[1])\n",
    "horaB = int(A[2])\n",
    "minB = int(A[3])\n",
    "\n",
    "if horaA > horaB:\n",
    "    if minA > minB:\n",
    "        horaR = ((24 - horaA) + horaB ) - 1\n",
    "        minR = (60 - minA) + minB\n",
    "        print(\"O JOGO DUROU {} HORA(S) E {} MINUTO(S)\".format(horaR,minR))\n",
    "    elif minB > minA:\n",
    "        horaR = (24 - horaA) + horaB\n",
    "        minR = minB - minA\n",
    "        print(\"O JOGO DUROU {} HORA(S) E {} MINUTO(S)\".format(horaR,minR))\n",
    "    elif minA == minB:\n",
    "        horaR = (24 - horaA) + horaB\n",
    "        minR = 0\n",
    "        print(\"O JOGO DUROU {} HORA(S) E {} MINUTO(S)\".format(horaR,minR))\n",
    "elif horaB > horaA:\n",
    "    if minB > minA:\n",
    "        horaR = horaB - horaA\n",
    "        minR = minB - minA\n",
    "        print(\"O JOGO DUROU {} HORA(S) E {} MINUTO(S)\".format(horaR,minR))\n",
    "    elif minA > minB:\n",
    "        horaR = (horaB - horaA) - 1\n",
    "        minR = (60 - minA) + minB\n",
    "        print(\"O JOGO DUROU {} HORA(S) E {} MINUTO(S)\".format(horaR,minR))\n",
    "    elif minA == minB:\n",
    "        horaR = horaB - horaA\n",
    "        minR = 0\n",
    "        print(\"O JOGO DUROU {} HORA(S) E {} MINUTO(S)\".format(horaR,minR))\n",
    "elif horaA == horaB:\n",
    "    if minB > minA:\n",
    "        minR = minB - minA\n",
    "        horaR = 0\n",
    "        print(\"O JOGO DUROU {} HORA(S) E {} MINUTO(S)\".format(horaR,minR))\n",
    "    elif minA > minB:\n",
    "        horaR = 23\n",
    "        minR = (60-minA) + minB\n",
    "        print(\"O JOGO DUROU {} HORA(S) E {} MINUTO(S)\".format(horaR,minR))\n",
    "    elif minA == minB:\n",
    "        horaR = 24\n",
    "        minR = 0\n",
    "        print(\"O JOGO DUROU {} HORA(S) E {} MINUTO(S)\".format(horaR,minR))"
   ]
  },
  {
   "cell_type": "code",
   "execution_count": null,
   "metadata": {},
   "outputs": [],
   "source": [
    "#exercicio 1048\n",
    "salario = float(input())\n",
    "\n",
    "if salario > 0 and salario <= 400:\n",
    "    perc = 15\n",
    "    rea = round(salario * (perc / 100),2)\n",
    "    novoSal = round(rea + salario,2)\n",
    "    print(\"Novo salario: {:.2f}\".format(novoSal))\n",
    "    print(\"Reajuste ganho: {:.2f}\".format(rea))\n",
    "    print(\"Em percentual: {} %\".format(perc))\n",
    "elif salario > 400 and salario <= 800:\n",
    "    perc = 12\n",
    "    rea = round(salario * (perc / 100),2)\n",
    "    novoSal = round(rea + salario,2)\n",
    "    print(\"Novo salario: {:.2f}\".format(novoSal))\n",
    "    print(\"Reajuste ganho: {:.2f}\".format(rea))\n",
    "    print(\"Em percentual: {} %\".format(perc))\n",
    "elif salario > 800 and salario <= 1200:\n",
    "    perc = 10\n",
    "    rea = round(salario * (perc / 100),2)\n",
    "    novoSal = round(rea + salario,2)\n",
    "    print(\"Novo salario: {:.2f}\".format(novoSal))\n",
    "    print(\"Reajuste ganho: {:.2f}\".format(rea))\n",
    "    print(\"Em percentual: {} %\".format(perc))\n",
    "elif salario > 1200 and salario <= 2000:\n",
    "    perc = 7\n",
    "    rea = round(salario * (perc / 100),2)\n",
    "    novoSal = round(rea + salario,2)\n",
    "    print(\"Novo salario: {:.2f}\".format(novoSal))\n",
    "    print(\"Reajuste ganho: {:.2f}\".format(rea))\n",
    "    print(\"Em percentual: {} %\".format(perc))\n",
    "elif salario > 2000:\n",
    "    perc = 4\n",
    "    rea = round(salario * (perc / 100),2)\n",
    "    novoSal = round(rea + salario,2)\n",
    "    print(\"Novo salario: {:.2f}\".format(novoSal))\n",
    "    print(\"Reajuste ganho: {:.2f}\".format(rea))\n",
    "    print(\"Em percentual: {} %\".format(perc)) "
   ]
  },
  {
   "cell_type": "code",
   "execution_count": null,
   "metadata": {},
   "outputs": [],
   "source": [
    "# exercicio 1049\n",
    "carac1 = input()\n",
    "carac2 = input()\n",
    "carac3 = input()\n",
    "\n",
    "animais = {\"aguia\":[\"vertebrado\",\"ave\",\"carnivoro\"],\n",
    "           \"pomba\":[\"vertebrado\",\"ave\",\"onivoro\"],\n",
    "           \"homem\":[\"vertebrado\",\"mamifero\",\"onivoro\"],\n",
    "           \"vaca\":[\"vertebrado\",\"mamifero\",\"herbivoro\"],\n",
    "           \"pulga\":[\"invertebrado\",\"inseto\",\"hematofago\"],\n",
    "           \"lagarta\":[\"invertebrado\",\"inseto\",\"herbivoro\"],\n",
    "           \"sanguessuga\":[\"invertebrado\",\"anelideo\",\"hematofago\"],\n",
    "           \"minhoca\":[\"invertebrado\",\"anelideo\",\"onivoro\"]\n",
    "          }\n",
    "for chaves in animais:\n",
    "    for skills in animais[f\"{chaves}\"]:\n",
    "        #print(f\"skills: {skills}\")\n",
    "        if carac1 == skills:\n",
    "            if carac2 == animais[f\"{chaves}\"][1]:\n",
    "                if carac3 == animais[f\"{chaves}\"][2]:\n",
    "                    print(chaves)"
   ]
  },
  {
   "cell_type": "code",
   "execution_count": null,
   "metadata": {},
   "outputs": [],
   "source": [
    "#exercicio 1050\n",
    "ddd = int(input())\n",
    "\n",
    "cidades =  {61:\"Brasilia\",\n",
    "            71:\"Salvador\",\n",
    "            11:\"Sao Paulo\",\n",
    "            21:\"Rio de Janeiro\",\n",
    "            32:\"Juiz de Fora\",\n",
    "            19:\"Campinas\",\n",
    "            27:\"Vitoria\",\n",
    "            31:\"Belo Horizonte\"}\n",
    "if ddd not in cidades.keys():\n",
    "    print(\"DDD nao cadastrado\")\n",
    "\n",
    "for num_city in cidades:\n",
    "    if num_city == ddd:\n",
    "        print(cidades[int(f\"{num_city}\")])\n",
    "        break"
   ]
  },
  {
   "cell_type": "code",
   "execution_count": null,
   "metadata": {},
   "outputs": [],
   "source": [
    "#exercicio 1051\n",
    "salario = float(input())\n",
    "\n",
    "if salario <= 2000:\n",
    "    print(\"Isento\")\n",
    "elif salario <= 3000:\n",
    "    taxa8 = salario % 2000\n",
    "    taxa = taxa8 * 0.08\n",
    "    print(\"R$ {:.2f}\".format(taxa))\n",
    "elif salario > 3000 and salario <= 4500:\n",
    "    taxa8 = 1000\n",
    "    taxa18 = salario % 3000\n",
    "    taxa = (taxa8 * 0.08) + (taxa18 * 0.18)\n",
    "    print(\"R$ {:.2f}\".format(taxa))\n",
    "elif salario > 4500:\n",
    "    taxa8 = 1000\n",
    "    taxa18 = 1500\n",
    "    taxa28 = salario - (taxa8 + taxa18 + 2000)\n",
    "    taxa = (taxa8 * 0.08) + (taxa18 * 0.18) + (taxa28 * 0.28)\n",
    "    print(\"R$ {:.2f}\".format(taxa))"
   ]
  },
  {
   "cell_type": "code",
   "execution_count": null,
   "metadata": {},
   "outputs": [],
   "source": [
    "#exercicio 1052\n",
    "mes = int(input())\n",
    "meses = {\n",
    "    1: \"January\",\n",
    "    2: \"February\",\n",
    "    3: \"March\",\n",
    "    4: \"April\",\n",
    "    5: \"May\",\n",
    "    6: \"June\",\n",
    "    7: \"July\",\n",
    "    8: \"August\",\n",
    "    9: \"September\",\n",
    "    10: \"October\",\n",
    "    11: \"November\",\n",
    "    12: \"December\"\n",
    "    }\n",
    "\n",
    "for i in meses:\n",
    "    if i == mes:\n",
    "        print(meses[int(f\"{i}\")])"
   ]
  },
  {
   "cell_type": "code",
   "execution_count": null,
   "metadata": {},
   "outputs": [],
   "source": [
    "#exercicio 1059\n",
    "for i in range(2,101,2):\n",
    "    print(i)"
   ]
  },
  {
   "cell_type": "code",
   "execution_count": null,
   "metadata": {},
   "outputs": [],
   "source": [
    "#exercicio 1060\n",
    "x = 0\n",
    "lista = list()\n",
    "while x < 6:\n",
    "    num = float(input())\n",
    "    lista.append(num)\n",
    "    x += 1\n",
    "\n",
    "countPosi = 0\n",
    "for i in lista:\n",
    "    if i > 0:\n",
    "        countPosi += 1\n",
    "print(\"{} valores positivos\".format(countPosi))"
   ]
  },
  {
   "cell_type": "code",
   "execution_count": 1,
   "metadata": {},
   "outputs": [
    {
     "name": "stdout",
     "output_type": "stream",
     "text": [
      " dia 5\n",
      " 08 : 12 : 23\n",
      " dia 9\n",
      " 06 : 13 : 23\n",
      "3 dia(s)\n",
      "22 hora(s)\n",
      "1 minuto(s)\n",
      "0 segundo(s)\n"
     ]
    }
   ],
   "source": [
    "# exercicio 1061\n",
    "dia1 = input().split()\n",
    "d1 = int(dia1[1])\n",
    "hora1 = input().split(\" : \")\n",
    "h1 = int(hora1[0])\n",
    "m1 = int(hora1[1])\n",
    "s1 = int(hora1[2])\n",
    "\n",
    "dia2 = input().split()\n",
    "d2 = int(dia2[1])\n",
    "hora2 = input().split(\" : \")\n",
    "h2 = int(hora2[0])\n",
    "m2 = int(hora2[1])\n",
    "s2 = int(hora2[2])\n",
    "if d2 > d1:\n",
    "    dias = d2 - d1\n",
    "else:\n",
    "    dias = d1-d2\n",
    "    \n",
    "    \n",
    "if h2 > h1:\n",
    "    horas = h2 - h1\n",
    "    if m1 > m2:\n",
    "        minutos = (60-m1) + m2\n",
    "    elif m2 > m1:\n",
    "        minutos = m2 - m1\n",
    "    elif m1 == m2:\n",
    "        minutos = 0\n",
    "elif h1 > h2:\n",
    "    dias -= 1\n",
    "    horas = (24-h1) + h2\n",
    "    if m1 > m2:\n",
    "        minutos = (60-m1) + m2\n",
    "    elif m2 > m1:\n",
    "        minutos = m2 - m1\n",
    "    elif m1 == m2:\n",
    "        minutos = 0\n",
    "elif h1 == h2:\n",
    "    horas = 0\n",
    "    if m1 > m2:\n",
    "        minutos = (60-m1) + m2\n",
    "    elif m2 > m1:\n",
    "        minutos = m2 - m1\n",
    "    elif m1 == m2:\n",
    "        minutos = 0\n",
    "    \n",
    "if s1 > s2:\n",
    "    segundos = (60-s1) + s2\n",
    "elif s2 > s1:\n",
    "    segundos = s2 - s1\n",
    "elif s2 == s1:\n",
    "    segundos = 0\n",
    "\n",
    "print(\"{} dia(s)\".format(dias))\n",
    "print(\"{} hora(s)\".format(horas))\n",
    "print(\"{} minuto(s)\".format(minutos))\n",
    "print(\"{} segundo(s)\".format(segundos))"
   ]
  },
  {
   "cell_type": "code",
   "execution_count": null,
   "metadata": {},
   "outputs": [],
   "source": [
    "#exercicio 1064\n",
    "\n",
    "x = 0\n",
    "lista = list()\n",
    "while x < 6:\n",
    "    num = float(input())\n",
    "    lista.append(num)\n",
    "    x += 1\n",
    "\n",
    "count = 0\n",
    "countPosi = 0\n",
    "quantas = 0\n",
    "for i in lista:\n",
    "    if i > 0:\n",
    "        countPosi += 1\n",
    "        count += i\n",
    "        quantas += 1\n",
    "media = round(count / quantas,1)\n",
    "print(\"{} valores positivos\".format(countPosi))\n",
    "print(media)"
   ]
  },
  {
   "cell_type": "code",
   "execution_count": null,
   "metadata": {},
   "outputs": [],
   "source": [
    "# exercicio 1065\n",
    "x = 0\n",
    "lista = list()\n",
    "pares = 0\n",
    "while x < 5:\n",
    "    num = float(input())\n",
    "    lista.append(num)\n",
    "    x += 1\n",
    "\n",
    "for numeros in lista:\n",
    "    if numeros % 2 ==0:\n",
    "        pares += 1\n",
    "print(\"{} valores pares\".format(pares))"
   ]
  },
  {
   "cell_type": "code",
   "execution_count": null,
   "metadata": {},
   "outputs": [],
   "source": [
    "# exercicio 1066\n",
    "x = 0\n",
    "lista = list()\n",
    "pares = 0\n",
    "impares = 0\n",
    "posi = 0\n",
    "nega = 0\n",
    "while x < 5:\n",
    "    num = float(input())\n",
    "    lista.append(num)\n",
    "    x += 1\n",
    "\n",
    "for numeros in lista:\n",
    "    if numeros>0:\n",
    "        posi += 1\n",
    "        if numeros % 2 == 0:\n",
    "            pares += 1\n",
    "        elif numeros % 2 != 0:\n",
    "            impares += 1\n",
    "    elif numeros<0:\n",
    "        nega += 1\n",
    "        if numeros % 2 == 0:\n",
    "            pares += 1\n",
    "        elif numeros % 2 != 0:\n",
    "            impares += 1\n",
    "    elif numeros == 0:\n",
    "        if numeros % 2 == 0:\n",
    "            pares += 1\n",
    "        elif numeros % 2 != 0:\n",
    "            impares += 1\n",
    "            \n",
    "print(\"{} valor(es) par(es)\".format(pares))\n",
    "print(\"{} valor(es) impar(es)\".format(impares))\n",
    "print(\"{} valor(es) positivo(s)\".format(posi))\n",
    "print(\"{} valor(es) negativo(s)\".format(nega))"
   ]
  },
  {
   "cell_type": "code",
   "execution_count": null,
   "metadata": {},
   "outputs": [],
   "source": [
    "#exercicio 1067\n",
    "num = int(input())\n",
    "contagemFim = 0\n",
    "\n",
    "while contagemFim < 6:\n",
    "    if num % 2 != 0:\n",
    "        print(num)\n",
    "        contagemFim += 1\n",
    "    num += 1"
   ]
  },
  {
   "cell_type": "code",
   "execution_count": null,
   "metadata": {},
   "outputs": [],
   "source": [
    "#exercicio 1070\n",
    "num = int(input())\n",
    "\n",
    "for i in range(0,num+1):\n",
    "    if i % 2 != 0:\n",
    "        print(i)"
   ]
  },
  {
   "cell_type": "code",
   "execution_count": null,
   "metadata": {},
   "outputs": [],
   "source": [
    "# exercicio 1071\n",
    "x = int(input())\n",
    "y = int(input())\n",
    "somaImp = 0\n",
    "if x < y:\n",
    "    for i in range(x+1,y):\n",
    "        if i %2 != 0:\n",
    "            somaImp += i \n",
    "    print(somaImp)\n",
    "elif x > y:\n",
    "    for i in range(y+1,x):\n",
    "        if i % 2 != 0:\n",
    "            somaImp += i\n",
    "    print(somaImp)\n",
    "elif x==y:\n",
    "    print(0)"
   ]
  },
  {
   "cell_type": "code",
   "execution_count": null,
   "metadata": {},
   "outputs": [],
   "source": [
    "# exercicio 1072\n",
    "\n",
    "qtde = int(input())\n",
    "pular = 0\n",
    "intervalo = [i for i in range(10,21)]\n",
    "\n",
    "lista = list()\n",
    "while pular<qtde:\n",
    "    numero = int(input())\n",
    "    lista.append(numero)\n",
    "    pular += 1\n",
    "\n",
    "nIn = 0\n",
    "nOut = 0\n",
    "\n",
    "for i in lista:\n",
    "    if i in intervalo:\n",
    "        nIn += 1\n",
    "    else:\n",
    "        nOut += 1\n",
    "        \n",
    "print(\"{} in\".format(nIn))\n",
    "print(\"{} out\".format(nOut))"
   ]
  },
  {
   "cell_type": "code",
   "execution_count": null,
   "metadata": {},
   "outputs": [],
   "source": [
    "# exercicio 1073\n",
    "numero = int(input())\n",
    "\n",
    "for i in range(1,numero+1):\n",
    "    if i % 2 == 0:\n",
    "        res = i ** 2\n",
    "        print(\"{}^2 = {}\".format(i,res))"
   ]
  },
  {
   "cell_type": "code",
   "execution_count": null,
   "metadata": {},
   "outputs": [],
   "source": [
    "# exercicio 1074\n",
    "qtde = int(input())\n",
    "pular = 0\n",
    "\n",
    "lista = list()\n",
    "while pular<qtde:\n",
    "    numero = int(input())\n",
    "    if numero>0:\n",
    "        if numero % 2 == 0:\n",
    "            print(\"EVEN POSITIVE\")\n",
    "        elif numero % 2 != 0:\n",
    "            print(\"ODD POSITIVE\")\n",
    "    elif numero < 0:\n",
    "        if numero % 2 == 0:\n",
    "            print(\"EVEN NEGATIVE\")\n",
    "        elif numero % 2 != 0:\n",
    "            print(\"ODD NEGATIVE\")\n",
    "    elif numero == 0:\n",
    "        print(\"NULL\")\n",
    "    pular += 1"
   ]
  },
  {
   "cell_type": "code",
   "execution_count": null,
   "metadata": {},
   "outputs": [],
   "source": [
    "# exercicio 1075\n",
    "\n",
    "numero = int(input())\n",
    "n = 0\n",
    "while n < 10000:\n",
    "    if n % numero == 2:\n",
    "        print(n)\n",
    "    n += 1"
   ]
  },
  {
   "cell_type": "code",
   "execution_count": null,
   "metadata": {},
   "outputs": [],
   "source": [
    "# exercicio 1078\n",
    "\n",
    "num = int(input())\n",
    "\n",
    "for base in range(1,11):\n",
    "    print(\"{} x {} = {}\".format(base,num,(base*num)))"
   ]
  },
  {
   "cell_type": "code",
   "execution_count": null,
   "metadata": {},
   "outputs": [],
   "source": [
    "# exercicio 1079\n",
    "\n",
    "n = int(input())\n",
    "rep = 0\n",
    "\n",
    "while n>rep:\n",
    "    notas = input().split()\n",
    "    n1 = float(notas[0]) * 2\n",
    "    n2 = float(notas[1]) * 3\n",
    "    n3 = float(notas[2]) * 5\n",
    "    media = round((n1 + n2 + n3) / 10,1)\n",
    "    print(media)\n",
    "    rep += 1"
   ]
  },
  {
   "cell_type": "code",
   "execution_count": null,
   "metadata": {},
   "outputs": [],
   "source": [
    "#### exercicio 1080\n",
    "lista = list()\n",
    "num = 0\n",
    "listaPos = list()\n",
    "while num < 100:\n",
    "    numero = int(input())\n",
    "    lista.append(numero)\n",
    "    num += 1\n",
    "    \n",
    "listaPos = lista[:]\n",
    "\n",
    "n = len(lista)\n",
    "for j in range(1,n):\n",
    "    chave = lista[j]\n",
    "    i = j - 1\n",
    "    while i >= 0 and lista[i]>chave:\n",
    "        lista[i+1] = lista[i]\n",
    "        i = i - 1\n",
    "    lista[i+1] = chave\n",
    "    \n",
    "print(lista[-1])\n",
    "print((listaPos.index(lista[-1]))+1)"
   ]
  },
  {
   "cell_type": "code",
   "execution_count": null,
   "metadata": {},
   "outputs": [],
   "source": [
    "# exercicio 1094\n",
    "num = int(input())\n",
    "rep = 0 \n",
    "total = 0\n",
    "totalC = 0\n",
    "totalR = 0\n",
    "totalS = 0\n",
    "while num > rep:\n",
    "    cobaia = input().split()\n",
    "    numCobaia = int(cobaia[0])\n",
    "    tipoCobaia = cobaia[1].upper()\n",
    "    total +=numCobaia\n",
    "    if tipoCobaia == \"C\":\n",
    "        totalC += numCobaia\n",
    "    elif tipoCobaia == \"R\":\n",
    "        totalR += numCobaia\n",
    "    elif tipoCobaia == \"S\":\n",
    "        totalS += numCobaia\n",
    "    rep += 1\n",
    "\n",
    "print(\"Total: {} cobaias\".format(total))\n",
    "print(\"Total de coelhos: {}\".format(totalC))\n",
    "print(\"Total de ratos: {}\".format(totalR))\n",
    "print(\"Total de sapos: {}\".format(totalS))\n",
    "\n",
    "\n",
    "print(\"Percentual de coelhos: {:.2f} %\".format(round((totalC / total)*100,2)))\n",
    "print(\"Percentual de ratos: {:.2f} %\".format(round((totalR / total*100),2)))\n",
    "print(\"Percentual de sapos: {:.2f} %\".format(round((totalS / total*100),2)))"
   ]
  },
  {
   "cell_type": "code",
   "execution_count": null,
   "metadata": {},
   "outputs": [],
   "source": [
    "# exercicio 1095\n",
    "x = 60 // 5\n",
    "j = 60\n",
    "i = 1\n",
    "for x in range(0,x+1):\n",
    "    print(\"I={} J={}\".format(i,j))\n",
    "    i += 3\n",
    "    j -= 5"
   ]
  },
  {
   "cell_type": "code",
   "execution_count": null,
   "metadata": {},
   "outputs": [],
   "source": [
    "# exercicio 1096\n",
    "\n",
    "for i in range(1,10,2):\n",
    "    for j in range(7,4,-1):\n",
    "        print(\"I={} J={}\".format(i,j))"
   ]
  },
  {
   "cell_type": "code",
   "execution_count": null,
   "metadata": {},
   "outputs": [],
   "source": [
    "# exercicio 1097\n",
    "j = 7\n",
    "\n",
    "for i in range(1,10,2):\n",
    "    x = j\n",
    "    for ii in range(0,3):\n",
    "        print(\"I={} J={}\".format(i,x))\n",
    "        x -= 1\n",
    "    j += 2"
   ]
  },
  {
   "cell_type": "code",
   "execution_count": null,
   "metadata": {},
   "outputs": [],
   "source": [
    "# exercicio 1098\n",
    "k = 0\n",
    "j = [1,2,3]\n",
    "count_i = 0\n",
    "count_ii = 0\n",
    "\n",
    "for i in range(0,11):\n",
    "    for ii in j:\n",
    "        k = round(k,1)\n",
    "        ii = round(ii,1) + k\n",
    "        if k == int(k):\n",
    "            print(\"I={:.0f} J={:.0f}\".format(k,ii))\n",
    "        else:\n",
    "            print(\"I={} J={}\".format(k,ii))\n",
    "        count_i += 1\n",
    "        if count_i == 3:\n",
    "            k += 0.20\n",
    "            count_i = 0"
   ]
  },
  {
   "cell_type": "code",
   "execution_count": 1,
   "metadata": {},
   "outputs": [
    {
     "name": "stdout",
     "output_type": "stream",
     "text": [
      " 5\n",
      " 5\n"
     ]
    },
    {
     "ename": "IndexError",
     "evalue": "list index out of range",
     "output_type": "error",
     "traceback": [
      "\u001b[1;31m---------------------------------------------------------------------------\u001b[0m",
      "\u001b[1;31mIndexError\u001b[0m                                Traceback (most recent call last)",
      "\u001b[1;32m<ipython-input-1-b7c28eed58c8>\u001b[0m in \u001b[0;36m<module>\u001b[1;34m\u001b[0m\n\u001b[0;32m      6\u001b[0m     \u001b[0ma\u001b[0m \u001b[1;33m=\u001b[0m \u001b[0minput\u001b[0m\u001b[1;33m(\u001b[0m\u001b[1;33m)\u001b[0m\u001b[1;33m.\u001b[0m\u001b[0msplit\u001b[0m\u001b[1;33m(\u001b[0m\u001b[1;33m)\u001b[0m\u001b[1;33m\u001b[0m\u001b[1;33m\u001b[0m\u001b[0m\n\u001b[0;32m      7\u001b[0m     \u001b[0mx\u001b[0m \u001b[1;33m=\u001b[0m \u001b[0mint\u001b[0m\u001b[1;33m(\u001b[0m\u001b[0ma\u001b[0m\u001b[1;33m[\u001b[0m\u001b[1;36m0\u001b[0m\u001b[1;33m]\u001b[0m\u001b[1;33m)\u001b[0m\u001b[1;33m\u001b[0m\u001b[1;33m\u001b[0m\u001b[0m\n\u001b[1;32m----> 8\u001b[1;33m     \u001b[0my\u001b[0m \u001b[1;33m=\u001b[0m \u001b[0mint\u001b[0m\u001b[1;33m(\u001b[0m\u001b[0ma\u001b[0m\u001b[1;33m[\u001b[0m\u001b[1;36m1\u001b[0m\u001b[1;33m]\u001b[0m\u001b[1;33m)\u001b[0m\u001b[1;33m\u001b[0m\u001b[1;33m\u001b[0m\u001b[0m\n\u001b[0m\u001b[0;32m      9\u001b[0m     \u001b[1;32mif\u001b[0m \u001b[0mx\u001b[0m\u001b[1;33m>\u001b[0m\u001b[0my\u001b[0m\u001b[1;33m:\u001b[0m\u001b[1;33m\u001b[0m\u001b[1;33m\u001b[0m\u001b[0m\n\u001b[0;32m     10\u001b[0m         \u001b[1;32mfor\u001b[0m \u001b[0mi\u001b[0m \u001b[1;32min\u001b[0m \u001b[0mrange\u001b[0m\u001b[1;33m(\u001b[0m\u001b[0my\u001b[0m\u001b[1;33m+\u001b[0m\u001b[1;36m1\u001b[0m\u001b[1;33m,\u001b[0m\u001b[0mx\u001b[0m\u001b[1;33m)\u001b[0m\u001b[1;33m:\u001b[0m\u001b[1;33m\u001b[0m\u001b[1;33m\u001b[0m\u001b[0m\n",
      "\u001b[1;31mIndexError\u001b[0m: list index out of range"
     ]
    }
   ],
   "source": [
    "# exercicio 1099\n",
    "n = int(input())\n",
    "reset = 0\n",
    "soma = 0\n",
    "while n>reset:\n",
    "    a = input().split()\n",
    "    x = int(a[0])\n",
    "    y = int(a[1])\n",
    "    if x>y:\n",
    "        for i in range(y+1,x):\n",
    "            if i % 2 != 0:\n",
    "                soma += i\n",
    "        print(soma)\n",
    "        soma = 0\n",
    "    elif y>x:\n",
    "        for i in range(x+1,y):\n",
    "            if i % 2 != 0:\n",
    "                soma += i\n",
    "        print(soma)\n",
    "        soma = 0\n",
    "    elif y==x:\n",
    "        print(0)\n",
    "    reset += 1"
   ]
  },
  {
   "cell_type": "code",
   "execution_count": 14,
   "metadata": {},
   "outputs": [
    {
     "name": "stdout",
     "output_type": "stream",
     "text": [
      " 5 9\n",
      "5 6 7 8 9 Sum=35\n",
      " 6 3\n",
      "3 4 5 6 Sum=18\n",
      " 5 2\n",
      "2 3 4 5 Sum=14\n",
      " 5 0\n"
     ]
    }
   ],
   "source": [
    "#exercicio 1101\n",
    "soma = 0\n",
    "\n",
    "while True:\n",
    "    a = input().split()\n",
    "    m = int(a[0])\n",
    "    n = int(a[1])\n",
    "\n",
    "    if m <= 0 or n <= 0:\n",
    "        break\n",
    "    if m>n:\n",
    "        for i in range(n,m+1):\n",
    "            soma += i\n",
    "            print(i,end=' ')\n",
    "        print(\"Sum={}\".format(soma))\n",
    "        soma = 0\n",
    "    elif m<n:\n",
    "        for i in range(m,n+1):\n",
    "            soma += i\n",
    "            print(i,end=\" \")\n",
    "        print(\"Sum={}\".format(soma))\n",
    "        soma = 0"
   ]
  },
  {
   "cell_type": "code",
   "execution_count": 2,
   "metadata": {},
   "outputs": [
    {
     "name": "stdout",
     "output_type": "stream",
     "text": [
      " 5 4\n",
      "Decrescente\n",
      " 7 2\n",
      "Decrescente\n",
      " 3 8\n",
      "Crescente\n",
      " 2 2\n"
     ]
    }
   ],
   "source": [
    "# exercicio 1113\n",
    "x = 1\n",
    "y = 2\n",
    "while x != y:\n",
    "    A = input().split()\n",
    "    x = int(A[0])\n",
    "    y = int(A[1])\n",
    "    if x>y:\n",
    "        print(\"Decrescente\")\n",
    "    elif y>x:\n",
    "        print(\"Crescente\")\n",
    "    elif x==y:\n",
    "        break"
   ]
  },
  {
   "cell_type": "code",
   "execution_count": 3,
   "metadata": {},
   "outputs": [
    {
     "name": "stdout",
     "output_type": "stream",
     "text": [
      " 2005\n",
      "Senha Invalida\n",
      " 2004\n",
      "Senha Invalida\n",
      " 2001\n",
      "Senha Invalida\n",
      " 2002\n",
      "Acesso Permitido\n"
     ]
    }
   ],
   "source": [
    "# exercicio 1114\n",
    "\n",
    "senha = 0\n",
    "while senha != 2002:\n",
    "    senha = int(input())\n",
    "    if senha != 2002:\n",
    "        print(\"Senha Invalida\")\n",
    "    elif senha == 2002:\n",
    "        print(\"Acesso Permitido\")\n",
    "        break"
   ]
  },
  {
   "cell_type": "code",
   "execution_count": 5,
   "metadata": {},
   "outputs": [
    {
     "name": "stdout",
     "output_type": "stream",
     "text": [
      " 3 2\n",
      "primeiro\n",
      " 3 -2\n",
      "quarto\n",
      " -8 -1\n",
      "terceiro\n",
      " -7 1\n",
      "segundo\n",
      " 0 2\n"
     ]
    }
   ],
   "source": [
    "#exercicio 1115\n",
    "x = 1\n",
    "y = 1\n",
    "while x != 0 or y != 0:\n",
    "    a = input().split()\n",
    "    x = int(a[0])\n",
    "    y = int(a[1])\n",
    "\n",
    "    if x > 0:\n",
    "        if y > 0:\n",
    "            print(\"primeiro\")\n",
    "        elif y < 0:\n",
    "            print(\"quarto\")\n",
    "    elif 0 > x:\n",
    "        if y > 0:\n",
    "            print('segundo')\n",
    "        elif y < 0:\n",
    "            print(\"terceiro\")\n",
    "    elif x == 0 or y == 0:\n",
    "        break"
   ]
  },
  {
   "cell_type": "code",
   "execution_count": 8,
   "metadata": {},
   "outputs": [
    {
     "name": "stdout",
     "output_type": "stream",
     "text": [
      " 3\n",
      " 3 -2\n",
      "-1.5\n",
      " 8 0\n",
      "divisao impossivel\n",
      " 0 8\n",
      "0.0\n"
     ]
    }
   ],
   "source": [
    "# exercicio 1116\n",
    "rep = 0\n",
    "entrada = int(input())\n",
    "while entrada>rep:\n",
    "    a = input().split()\n",
    "    x = int(a[0])\n",
    "    y = int(a[1])\n",
    "    \n",
    "    if y == 0:\n",
    "        print(\"divisao impossivel\")\n",
    "    elif x == 0:\n",
    "        print(0.0)\n",
    "    else:\n",
    "        res = round(x / y,1)\n",
    "        print(res)\n",
    "    rep += 1"
   ]
  },
  {
   "cell_type": "code",
   "execution_count": 47,
   "metadata": {},
   "outputs": [
    {
     "name": "stdout",
     "output_type": "stream",
     "text": [
      " 3.5\n",
      " 10\n",
      "media = 6.75\n"
     ]
    }
   ],
   "source": [
    "## exercicio 1117\n",
    "total = 0\n",
    "nota = -5\n",
    "count = 0\n",
    "lista_notas = list()\n",
    "while nota >= 0 or nota <= 10:\n",
    "    nota = float(input())\n",
    "    if nota < 0 or nota > 10:\n",
    "        print(\"nota invalida\")\n",
    "    elif nota >= 0 and nota <= 10:\n",
    "        total += nota\n",
    "        count += 1\n",
    "        if count == 2:\n",
    "            media = round(total/2,2)\n",
    "            print(\"media = {:.2f}\".format(media))\n",
    "            break"
   ]
  },
  {
   "cell_type": "code",
   "execution_count": null,
   "metadata": {},
   "outputs": [],
   "source": [
    "## exercicio 1118\n",
    "\n",
    "total = 0\n",
    "nota = -5\n",
    "lista_notas = list()\n",
    "count = 0\n",
    "\n",
    "while nota >= 0 or nota <= 10:\n",
    "    nota = float(input())\n",
    "    if nota < 0 or nota > 10:\n",
    "        print(\"nota invalida\")\n",
    "    elif nota >= 0 and nota <= 10:\n",
    "        total += nota\n",
    "        count += 1\n",
    "        if count == 2:\n",
    "            media = round(total/2,2)\n",
    "            print(\"media = {:.2f}\".format(media))\n",
    "            count = 0\n",
    "            total = 0\n",
    "            print(\"novo calculo (1-sim 2-nao)\")\n",
    "            voltar = int(input())\n",
    "            if voltar == 2:\n",
    "                break\n",
    "            while voltar > 2 or voltar < 1:\n",
    "                print(\"novo calculo (1-sim 2-nao)\")\n",
    "                voltar = int(input())"
   ]
  },
  {
   "cell_type": "code",
   "execution_count": 86,
   "metadata": {},
   "outputs": [
    {
     "name": "stdout",
     "output_type": "stream",
     "text": [
      " 5 9\n",
      "Novo grenal (1-sim 2-nao)\n",
      " 1\n",
      " 5 8\n",
      "Novo grenal (1-sim 2-nao)\n",
      " 2\n",
      "2 grenais\n",
      "Inter:0\n",
      "Gremio:2\n",
      "Empate:0\n",
      "Gremio venceu mais\n"
     ]
    }
   ],
   "source": [
    "# exercicio 1131\n",
    "\n",
    "grenal = -1\n",
    "vit_inter = 0\n",
    "vit_gremio = 0\n",
    "empate = 0\n",
    "count = 0\n",
    "\n",
    "while grenal > 0 or grenal < 2:\n",
    "    gols = input().split()\n",
    "    inter = int(gols[0])\n",
    "    gremio = int(gols[1])\n",
    "    if inter > gremio:\n",
    "        vit_inter += 1\n",
    "        count += 1\n",
    "    elif gremio > inter:\n",
    "        vit_gremio += 1\n",
    "        count += 1\n",
    "    elif gremio == inter:\n",
    "        empate += 1\n",
    "        count += 1\n",
    "    print(\"Novo grenal (1-sim 2-nao)\")\n",
    "    grenal = int(input())\n",
    "    if grenal == 2:\n",
    "        print(\"{} grenais\".format(count))\n",
    "        print(\"Inter:{}\".format(vit_inter))\n",
    "        print(\"Gremio:{}\".format(vit_gremio))\n",
    "        print(\"Empates:{}\".format(empate))\n",
    "        if vit_gremio>vit_inter:\n",
    "            print(\"Gremio venceu mais\")\n",
    "        elif vit_inter>vit_gremio:\n",
    "            print(\"Inter venceu mais\")\n",
    "        elif vit_inter == vit_gremio:\n",
    "            print(\"Nao houve vencedor\")\n",
    "        break"
   ]
  },
  {
   "cell_type": "code",
   "execution_count": 94,
   "metadata": {},
   "outputs": [
    {
     "name": "stdout",
     "output_type": "stream",
     "text": [
      " 100\n",
      " 200\n",
      "13954\n"
     ]
    }
   ],
   "source": [
    "# exercicio 1132\n",
    "\n",
    "x = int(input())\n",
    "y = int(input())\n",
    "soma = 0\n",
    "\n",
    "if x > y:\n",
    "    for n in range(y,x+1):\n",
    "        if n % 13 != 0:\n",
    "            soma += n\n",
    "    print(soma)\n",
    "elif y > x:\n",
    "    for n in range(x,y+1):\n",
    "        if n % 13 != 0:\n",
    "            soma += n\n",
    "    print(soma)\n",
    "elif x == y:\n",
    "    lista = [x,y]\n",
    "    for i in lista:\n",
    "        if i % 13 != 0:\n",
    "            soma += i\n",
    "    print(soma)"
   ]
  },
  {
   "cell_type": "code",
   "execution_count": 1,
   "metadata": {},
   "outputs": [
    {
     "name": "stdout",
     "output_type": "stream",
     "text": [
      " 10\n",
      " 18\n",
      "12\n",
      "13\n",
      "17\n"
     ]
    }
   ],
   "source": [
    "# exercicio 1133\n",
    "\n",
    "x = int(input())\n",
    "y = int(input())\n",
    "\n",
    "if x>y:\n",
    "    for i in range(y+1,x):\n",
    "        if i % 5 == 2 or i % 5 == 3:\n",
    "            print(i)\n",
    "elif y>x:\n",
    "    for i in range(x+1,y):\n",
    "        if i % 5 == 2 or i % 5 == 3:\n",
    "            print(i)"
   ]
  },
  {
   "cell_type": "code",
   "execution_count": 5,
   "metadata": {},
   "outputs": [
    {
     "name": "stdout",
     "output_type": "stream",
     "text": [
      "escolha:  8\n",
      "escolha:  1\n",
      "escolha:  7\n",
      "escolha:  2\n",
      "escolha:  2\n",
      "escolha:  4\n",
      "MUITO OBRIGADO\n",
      "Alcool: 1\n",
      "Gasolina: 2\n",
      "Diesel: 0\n"
     ]
    }
   ],
   "source": [
    "# exercicio 1134\n",
    "\n",
    "escolha = 5\n",
    "al = 0 # 1\n",
    "gas = 0 # 2\n",
    "die = 0 # 3\n",
    "while escolha != 4:\n",
    "    escolha = int(input())\n",
    "    if escolha == 1:\n",
    "        al += 1\n",
    "    elif escolha == 2:\n",
    "        gas += 1\n",
    "    elif escolha == 3:\n",
    "        die += 1\n",
    "    \n",
    "print(\"MUITO OBRIGADO\")\n",
    "print(\"Alcool: {}\".format(al))\n",
    "print(\"Gasolina: {}\".format(gas))\n",
    "print(\"Diesel: {}\".format(die))\n",
    "        "
   ]
  },
  {
   "cell_type": "code",
   "execution_count": 14,
   "metadata": {},
   "outputs": [
    {
     "name": "stdout",
     "output_type": "stream",
     "text": [
      " 7\n",
      "1 2 3 PUM\n",
      "5 6 7 PUM\n",
      "9 10 11 PUM\n",
      "13 14 15 PUM\n",
      "17 18 19 PUM\n",
      "21 22 23 PUM\n",
      "25 26 27 PUM\n"
     ]
    }
   ],
   "source": [
    "# exercicio 1142\n",
    "\n",
    "n = int(input()) * 4\n",
    "\n",
    "for i in range(1,n):\n",
    "    if i % 4 == 0:\n",
    "        print(\"PUM\",end=\"\\n\")\n",
    "        continue\n",
    "    print(i,end=' ')\n",
    "if n % 4 == 0:\n",
    "    print(\"PUM\")"
   ]
  },
  {
   "cell_type": "code",
   "execution_count": 20,
   "metadata": {},
   "outputs": [
    {
     "name": "stdout",
     "output_type": "stream",
     "text": [
      " 5\n",
      "1 1 1\n",
      "2 4 8\n",
      "3 9 27\n",
      "4 16 64\n",
      "5 25 125\n"
     ]
    }
   ],
   "source": [
    "# exercicio 1143\n",
    "\n",
    "n = int(input())\n",
    "\n",
    "for i in range(1,n+1):\n",
    "    print(\"{} {} {}\".format(i,i**2,i**3))"
   ]
  },
  {
   "cell_type": "code",
   "execution_count": 21,
   "metadata": {},
   "outputs": [
    {
     "name": "stdout",
     "output_type": "stream",
     "text": [
      " 5\n",
      "1 1 1\n",
      "1 2 2\n",
      "2 4 8\n",
      "2 5 9\n",
      "3 9 27\n",
      "3 10 28\n",
      "4 16 64\n",
      "4 17 65\n",
      "5 25 125\n",
      "5 26 126\n"
     ]
    }
   ],
   "source": [
    "# exercicio 1144\n",
    "\n",
    "n = int(input())\n",
    "\n",
    "for i in range(1,n+1):\n",
    "    x1 = i\n",
    "    x2 = i**2\n",
    "    x3 = i**3\n",
    "    print(\"{} {} {}\".format(x1,x2,x3))\n",
    "    print(\"{} {} {}\".format(x1,x2+1,x3+1))"
   ]
  },
  {
   "cell_type": "code",
   "execution_count": 39,
   "metadata": {},
   "outputs": [
    {
     "name": "stdout",
     "output_type": "stream",
     "text": [
      " 5 20\n",
      "1 2 3 4 5\n",
      "6 7 8 9 10\n",
      "11 12 13 14 15\n",
      "16 17 18 19 20\n"
     ]
    }
   ],
   "source": [
    "# exercicio 1145\n",
    "\n",
    "a = input().split()\n",
    "\n",
    "x = int(a[0])\n",
    "y = int(a[1])\n",
    "\n",
    "for i in range(1,y+1):\n",
    "    if i % x == 0:\n",
    "        print(i)\n",
    "        continue\n",
    "    print(i, end=\" \")"
   ]
  },
  {
   "cell_type": "code",
   "execution_count": 9,
   "metadata": {},
   "outputs": [
    {
     "name": "stdout",
     "output_type": "stream",
     "text": [
      " 5\n",
      "1 2 3 4 5 \n",
      " 10\n",
      "1 2 3 4 5 6 7 8 9 10 \n",
      " 3\n",
      "1 2 3 \n",
      " 0\n"
     ]
    }
   ],
   "source": [
    "# exercucui 1146\n",
    "entrada = \"nba\"\n",
    "\n",
    "while entrada != 0:\n",
    "    entrada = int(input())\n",
    "    if entrada == 0:\n",
    "        break\n",
    "    for i in range(1,entrada+1):\n",
    "        if i == 1:\n",
    "            print(i,end='')\n",
    "            continue\n",
    "        print(\" {}\".format(i),end=\"\")\n",
    "    print()"
   ]
  },
  {
   "cell_type": "code",
   "execution_count": 20,
   "metadata": {},
   "outputs": [
    {
     "name": "stdout",
     "output_type": "stream",
     "text": [
      "3 -1 0 -2 2\n",
      "7\n"
     ]
    }
   ],
   "source": [
    "# beecrowd 1149\n",
    "\n",
    "entrada = input().split()\n",
    "a = int(entrada[0])\n",
    "n = int(entrada[1])\n",
    "\n",
    "count_e = 0\n",
    "if len(entrada) > 2:\n",
    "    for i_e in entrada:\n",
    "        count_e += 1\n",
    "        if int(i_e) > 0 and count_e >= 2:\n",
    "            n = int(i_e)\n",
    "            \n",
    "count = 0\n",
    "i = n-1\n",
    "\n",
    "for i in range(0,n):\n",
    "    count += (a+i)\n",
    "\n",
    "print(count)"
   ]
  },
  {
   "cell_type": "code",
   "execution_count": 41,
   "metadata": {},
   "outputs": [
    {
     "name": "stdout",
     "output_type": "stream",
     "text": [
      "3\n",
      "20\n",
      "5\n"
     ]
    }
   ],
   "source": [
    "# exercicio 1150\n",
    "\n",
    "x = int(input())\n",
    "z = int(input())\n",
    "if x >= z:\n",
    "    while x >= z:\n",
    "        z = int(input())\n",
    "        \n",
    "count = 0\n",
    "soma = 0\n",
    "\n",
    "for i in range(x,(x*z)):\n",
    "    soma += i\n",
    "    count += 1\n",
    "    if soma >= z:\n",
    "        print(count)\n",
    "        break"
   ]
  },
  {
   "cell_type": "code",
   "execution_count": null,
   "metadata": {},
   "outputs": [
    {
     "name": "stdout",
     "output_type": "stream",
     "text": [
      " 10\n",
      "X[0] = 10\n",
      " 12\n",
      "X[1] = 12\n",
      " 13\n",
      "X[2] = 13\n",
      " 15\n",
      "X[3] = 15\n",
      " 16\n",
      "X[4] = 16\n",
      " 14\n",
      "X[5] = 14\n",
      " 16\n",
      "X[6] = 16\n",
      " 12\n",
      "X[7] = 12\n",
      " 10\n",
      "X[8] = 10\n",
      " 13\n",
      "X[9] = 13\n"
     ]
    }
   ],
   "source": [
    "# exercicio 1172\n",
    "\n",
    "lista = list()\n",
    "for i in range(0,10):\n",
    "    x = int(input())\n",
    "    if x <= 0:\n",
    "        x = 1\n",
    "    lista.append(x)\n",
    "    print(\"X[{}] = {}\".format(i,x))"
   ]
  },
  {
   "cell_type": "code",
   "execution_count": 8,
   "metadata": {},
   "outputs": [
    {
     "name": "stdout",
     "output_type": "stream",
     "text": [
      " 5\n",
      "0 1 1 2 3"
     ]
    }
   ],
   "source": [
    "# exercicio 1151\n",
    "\n",
    "def fib(n):\n",
    "    j = 1\n",
    "    i = 0\n",
    "    for k in range(1,n):\n",
    "        t = i+j\n",
    "        i = j\n",
    "        j = t\n",
    "        if k == (n-1):\n",
    "            print(i,end='')\n",
    "            break\n",
    "        print(i,end=' ')\n",
    "\n",
    "n = int(input())\n",
    "print(0,end=\" \")\n",
    "fib(n)"
   ]
  },
  {
   "cell_type": "code",
   "execution_count": 30,
   "metadata": {},
   "outputs": [
    {
     "name": "stdin",
     "output_type": "stream",
     "text": [
      " 5\n"
     ]
    },
    {
     "name": "stdout",
     "output_type": "stream",
     "text": [
      "0 1 1 2 3\n"
     ]
    }
   ],
   "source": [
    "# exercicio 1151\n",
    "\n",
    "n = int(input())\n",
    "res = [0,1]\n",
    "r = \"\"\n",
    "for i in range(2,n):\n",
    "    res.append(res[i-1] + res[i-2])\n",
    "\n",
    "r += \" \".join([str(_) for _ in res])\n",
    "print(r)"
   ]
  },
  {
   "cell_type": "code",
   "execution_count": 18,
   "metadata": {},
   "outputs": [
    {
     "name": "stdin",
     "output_type": "stream",
     "text": [
      " 5\n"
     ]
    },
    {
     "data": {
      "text/plain": [
       "[0, 1, 1, 2, 3]"
      ]
     },
     "execution_count": 18,
     "metadata": {},
     "output_type": "execute_result"
    }
   ],
   "source": [
    "n = int(input())\n",
    "fibonacci_numbers = [0, 1]\n",
    "for i in range(2,n):\n",
    "    fibonacci_numbers.append(fibonacci_numbers[i-1]+fibonacci_numbers[i-2])\n",
    "    \n",
    "fibonacci_numbers"
   ]
  },
  {
   "cell_type": "code",
   "execution_count": null,
   "metadata": {},
   "outputs": [],
   "source": [
    "list_res.append(f(num))"
   ]
  },
  {
   "cell_type": "code",
   "execution_count": null,
   "metadata": {},
   "outputs": [],
   "source": [
    "# exercicio 1153\n",
    "\n",
    "def f(n):\n",
    "    if n == 1:\n",
    "        return 1\n",
    "    if n == 0:\n",
    "        return 1\n",
    "    if n > 1:\n",
    "        return f(n-1) * n\n",
    "\n",
    "i = int(input())\n",
    "print(f(i))"
   ]
  },
  {
   "cell_type": "code",
   "execution_count": 15,
   "metadata": {},
   "outputs": [
    {
     "name": "stdout",
     "output_type": "stream",
     "text": [
      " 4\n",
      " 4\n",
      " 4\n",
      " 4\n",
      " 4\n",
      " 4\n",
      " -4\n",
      "4.00\n"
     ]
    }
   ],
   "source": [
    "# exercicio 1154\n",
    "idade = 1\n",
    "soma = 0\n",
    "count = 0\n",
    "while idade > 0:\n",
    "    idade = int(input())\n",
    "    if idade < 0:\n",
    "        break\n",
    "    count += 1\n",
    "    soma += idade\n",
    "\n",
    "print(\"{:.2f}\".format(round(soma / count,2)))"
   ]
  },
  {
   "cell_type": "code",
   "execution_count": 19,
   "metadata": {},
   "outputs": [
    {
     "name": "stdout",
     "output_type": "stream",
     "text": [
      "5.19\n"
     ]
    }
   ],
   "source": [
    "# exercicio 1155\n",
    "soma = 0\n",
    "for i in range(1,101):\n",
    "    soma += (1/i)\n",
    "print(\"{:.2f}\".format(soma))"
   ]
  },
  {
   "cell_type": "code",
   "execution_count": 36,
   "metadata": {},
   "outputs": [
    {
     "name": "stdout",
     "output_type": "stream",
     "text": [
      "6.00\n"
     ]
    }
   ],
   "source": [
    "# exercicio 1156\n",
    "\n",
    "# S = 1 + 3/2 + 5/4 + 7/8 + ... + 39/?\n",
    "\n",
    "# numerador\n",
    "# --------\n",
    "# denominador\n",
    "\n",
    "soma = 1\n",
    "denominador = 2\n",
    "for numerador in range(3,40,2):\n",
    "    soma += (numerador/denominador)\n",
    "    # print(\"{} / {}\".format(numerador,denominador))\n",
    "    denominador *= 2\n",
    "    \n",
    "print(\"{:.2f}\".format(soma))"
   ]
  },
  {
   "cell_type": "code",
   "execution_count": 8,
   "metadata": {},
   "outputs": [
    {
     "name": "stdout",
     "output_type": "stream",
     "text": [
      " 4\n",
      "1\n",
      "2\n",
      "4\n"
     ]
    }
   ],
   "source": [
    "# exercicio 1157\n",
    "\n",
    "n = int(input())\n",
    "\n",
    "for i in range(1,n+1):\n",
    "    if n % i == 0:\n",
    "        print(i)"
   ]
  },
  {
   "cell_type": "code",
   "execution_count": 10,
   "metadata": {},
   "outputs": [
    {
     "name": "stdout",
     "output_type": "stream",
     "text": [
      " 2\n",
      " -1 5\n",
      "15\n",
      " 0 8\n",
      "64\n"
     ]
    }
   ],
   "source": [
    "# exercicio 1158\n",
    "\n",
    "# quantidade de casos\n",
    "nCasos = int(input())\n",
    "\n",
    "# cada caso com um inteiro X e um Y\n",
    "# Y -> soma deles impares consecutivos, a partir de X\n",
    "# se X for impar, começa por elee\n",
    "# faz a soma de Y vezes, começando pelo X\n",
    "# X Y\n",
    "soma = 0\n",
    "repeticao = 0\n",
    "\n",
    "while nCasos > repeticao:\n",
    "    entrada = input().split()\n",
    "    x = int(entrada[0])\n",
    "    y = int(entrada[1])\n",
    "    \n",
    "    if x % 2 != 0:\n",
    "        count_imp = 0\n",
    "        count = 0\n",
    "        i = x\n",
    "        while count_imp != y:\n",
    "            if i % 2 != 0:\n",
    "                soma += i\n",
    "                count_imp += 1\n",
    "            i += 1\n",
    "        print(soma)\n",
    "        count = 0\n",
    "        soma = 0\n",
    "        i = 0\n",
    "    if x % 2 == 0:\n",
    "        count_imp = 0\n",
    "        count = 0\n",
    "        i = x\n",
    "        while count_imp != y:\n",
    "            if i % 2 != 0:\n",
    "                soma += i\n",
    "                count_imp += 1\n",
    "            i += 1\n",
    "        print(soma)\n",
    "        count = 0\n",
    "        soma = 0\n",
    "        i = 0\n",
    "    repeticao += 1"
   ]
  },
  {
   "cell_type": "code",
   "execution_count": 4,
   "metadata": {},
   "outputs": [
    {
     "name": "stdin",
     "output_type": "stream",
     "text": [
      " 11\n"
     ]
    },
    {
     "name": "stdout",
     "output_type": "stream",
     "text": [
      "80\n"
     ]
    },
    {
     "name": "stdin",
     "output_type": "stream",
     "text": [
      " 5\n"
     ]
    },
    {
     "name": "stdout",
     "output_type": "stream",
     "text": [
      "50\n"
     ]
    },
    {
     "name": "stdin",
     "output_type": "stream",
     "text": [
      " 0\n"
     ]
    }
   ],
   "source": [
    "# 1159 - Soma de Pares Consecutivos\n",
    "\n",
    "parar = 1\n",
    "\n",
    "while parar != 0:\n",
    "    parar = int(input())\n",
    "    if parar == 0:\n",
    "        break\n",
    "        \n",
    "    if parar % 2 == 0:\n",
    "        lis = [_ for _ in range(parar,parar+10) if _ % 2 == 0]\n",
    "        print(sum(lis))\n",
    "    else:\n",
    "        parar + 1\n",
    "        lis = [_ for _ in range(parar,parar+10) if _ % 2 == 0]\n",
    "        print(sum(lis))"
   ]
  },
  {
   "cell_type": "code",
   "execution_count": 63,
   "metadata": {},
   "outputs": [
    {
     "name": "stdin",
     "output_type": "stream",
     "text": [
      " 11\n",
      " 100 101 10.0 0.0\n"
     ]
    },
    {
     "name": "stdout",
     "output_type": "stream",
     "text": [
      "1 anos.\n"
     ]
    },
    {
     "name": "stdin",
     "output_type": "stream",
     "text": [
      " 100 101 10.0 9.0\n"
     ]
    },
    {
     "name": "stdout",
     "output_type": "stream",
     "text": [
      "2 anos.\n"
     ]
    },
    {
     "name": "stdin",
     "output_type": "stream",
     "text": [
      " 654327 894521 8.4 3.2\n"
     ]
    },
    {
     "name": "stdout",
     "output_type": "stream",
     "text": [
      "7 anos.\n"
     ]
    },
    {
     "name": "stdin",
     "output_type": "stream",
     "text": [
      " 100 1000 10.0 9.0\n"
     ]
    },
    {
     "name": "stdout",
     "output_type": "stream",
     "text": [
      "Mais de 1 seculo.\n"
     ]
    },
    {
     "name": "stdin",
     "output_type": "stream",
     "text": [
      " 128 256 6.6 2.8\n"
     ]
    },
    {
     "name": "stdout",
     "output_type": "stream",
     "text": [
      "20 anos.\n"
     ]
    },
    {
     "name": "stdin",
     "output_type": "stream",
     "text": [
      " 512 1024 3.1 2.3\n"
     ]
    },
    {
     "name": "stdout",
     "output_type": "stream",
     "text": [
      "91 anos.\n"
     ]
    },
    {
     "name": "stdin",
     "output_type": "stream",
     "text": [
      " 2048 4096 5.5 2.7\n"
     ]
    },
    {
     "name": "stdout",
     "output_type": "stream",
     "text": [
      "26 anos.\n"
     ]
    },
    {
     "name": "stdin",
     "output_type": "stream",
     "text": [
      " 100 200 1.0 0.0\n"
     ]
    },
    {
     "name": "stdout",
     "output_type": "stream",
     "text": [
      "Mais de 1 seculo.\n"
     ]
    },
    {
     "name": "stdin",
     "output_type": "stream",
     "text": [
      " 1000 1999 1.8 1.0\n"
     ]
    },
    {
     "name": "stdout",
     "output_type": "stream",
     "text": [
      "89 anos.\n"
     ]
    },
    {
     "name": "stdin",
     "output_type": "stream",
     "text": [
      " 100 200 10.0 0.0\n"
     ]
    },
    {
     "name": "stdout",
     "output_type": "stream",
     "text": [
      "8 anos.\n"
     ]
    },
    {
     "name": "stdin",
     "output_type": "stream",
     "text": [
      " 666 6660 10.0 0.0\n"
     ]
    },
    {
     "name": "stdout",
     "output_type": "stream",
     "text": [
      "25 anos.\n"
     ]
    }
   ],
   "source": [
    "# 1160 - Crescimento Populacional\n",
    "\n",
    "rep = int(input())\n",
    "c = 0\n",
    "while rep > c:\n",
    "    data = tuple(input().split())\n",
    "    \n",
    "    popA, popB, cresA, cresB = data\n",
    "    \n",
    "    popA = int(popA)\n",
    "    popB = int(popB)\n",
    "    \n",
    "    cresA = float(cresA)\n",
    "    cresB = float(cresB)\n",
    "\n",
    "    cont_anos = 1\n",
    "    if int(cresB) != 0 or cresB > 0:\n",
    "        cont_anos = 1\n",
    "        \n",
    "    while popB > popA:\n",
    "        popA += int(popA * (cresA / 100))\n",
    "        popB += int(popB * (cresB / 100))\n",
    "        \n",
    "        if popA > popB:\n",
    "            break\n",
    "        # print(f\"População A: {popA}\")\n",
    "        # print(f\"População B: {popB}\")\n",
    "        # print(f\"Ano: {cont_anos}\")\n",
    "        # print()\n",
    "        cont_anos += 1\n",
    "        \n",
    "        \n",
    "        if cont_anos > 100:\n",
    "            print(\"Mais de 1 seculo.\")\n",
    "            break\n",
    "    \n",
    "    if cont_anos <= 100:\n",
    "        print(\"{} anos.\".format(cont_anos))\n",
    "    c += 1"
   ]
  },
  {
   "cell_type": "code",
   "execution_count": 69,
   "metadata": {},
   "outputs": [
    {
     "name": "stdin",
     "output_type": "stream",
     "text": [
      " 3\n",
      " 6\n"
     ]
    },
    {
     "name": "stdout",
     "output_type": "stream",
     "text": [
      "6 eh perfeito\n"
     ]
    },
    {
     "name": "stdin",
     "output_type": "stream",
     "text": [
      " 5\n"
     ]
    },
    {
     "name": "stdout",
     "output_type": "stream",
     "text": [
      "5 nao eh perfeito\n"
     ]
    },
    {
     "name": "stdin",
     "output_type": "stream",
     "text": [
      " 28\n"
     ]
    },
    {
     "name": "stdout",
     "output_type": "stream",
     "text": [
      "28 eh perfeito\n"
     ]
    }
   ],
   "source": [
    "# 1164 - numero perfeito\n",
    "\n",
    "rep = int(input())\n",
    "c = 0\n",
    "\n",
    "while rep>c:\n",
    "    n_per = int(input())\n",
    "    \n",
    "    soma_n_per = [_ for _ in range(1,n_per) if n_per % _ == 0]\n",
    "    \n",
    "    if n_per == sum(soma_n_per):\n",
    "        print(\"{} eh perfeito\".format(n_per))\n",
    "    else:\n",
    "        print(\"{} nao eh perfeito\".format(n_per))\n",
    "    \n",
    "    c+= 1"
   ]
  },
  {
   "cell_type": "code",
   "execution_count": 89,
   "metadata": {},
   "outputs": [
    {
     "name": "stdin",
     "output_type": "stream",
     "text": [
      " 3\n",
      " 8\n"
     ]
    },
    {
     "name": "stdout",
     "output_type": "stream",
     "text": [
      "8 nao eh primo\n"
     ]
    },
    {
     "name": "stdin",
     "output_type": "stream",
     "text": [
      " 51\n"
     ]
    },
    {
     "name": "stdout",
     "output_type": "stream",
     "text": [
      "51 nao eh primo\n"
     ]
    },
    {
     "name": "stdin",
     "output_type": "stream",
     "text": [
      " 7\n"
     ]
    },
    {
     "name": "stdout",
     "output_type": "stream",
     "text": [
      "7 eh primo\n"
     ]
    }
   ],
   "source": [
    "# 1165 - Número Primo\n",
    "\n",
    "rep = int(input())\n",
    "c = 0\n",
    "\n",
    "# declaring the function to return if the number is prime\n",
    "def prime(n):\n",
    "    if n > 1:\n",
    "        for i in range(2,n):\n",
    "            if n % i == 0:\n",
    "                print(\"{} nao eh primo\".format(n_prime))\n",
    "                break\n",
    "        else:\n",
    "            print(\"{} eh primo\".format(n_prime))\n",
    "\n",
    "while rep > c:\n",
    "    n_prime = int(input())\n",
    "    \n",
    "    prime(n_prime)\n",
    "    c += 1"
   ]
  },
  {
   "cell_type": "code",
   "execution_count": 94,
   "metadata": {},
   "outputs": [
    {
     "name": "stdin",
     "output_type": "stream",
     "text": [
      " 1\n"
     ]
    },
    {
     "name": "stdout",
     "output_type": "stream",
     "text": [
      "N[0] = 1\n",
      "N[1] = 2\n",
      "N[2] = 4\n",
      "N[3] = 8\n",
      "N[4] = 16\n",
      "N[5] = 32\n",
      "N[6] = 64\n",
      "N[7] = 128\n",
      "N[8] = 256\n",
      "N[9] = 512\n"
     ]
    }
   ],
   "source": [
    "# 1173 - Preenchimento de Vetor I\n",
    "\n",
    "n = int(input())\n",
    "\n",
    "for i in range(10):\n",
    "    print(f'N[{i}] = {n}')\n",
    "    n *= 2\n"
   ]
  },
  {
   "cell_type": "code",
   "execution_count": 97,
   "metadata": {},
   "outputs": [
    {
     "name": "stdin",
     "output_type": "stream",
     "text": [
      " 0\n"
     ]
    },
    {
     "name": "stdout",
     "output_type": "stream",
     "text": [
      "A[0] = 0.0\n"
     ]
    },
    {
     "name": "stdin",
     "output_type": "stream",
     "text": [
      " -5\n"
     ]
    },
    {
     "name": "stdout",
     "output_type": "stream",
     "text": [
      "A[1] = -5.0\n"
     ]
    },
    {
     "name": "stdin",
     "output_type": "stream",
     "text": [
      " 63\n",
      " -54\n"
     ]
    },
    {
     "name": "stdout",
     "output_type": "stream",
     "text": [
      "A[3] = -54.0\n"
     ]
    },
    {
     "name": "stdin",
     "output_type": "stream",
     "text": [
      " break\n"
     ]
    },
    {
     "ename": "ValueError",
     "evalue": "could not convert string to float: 'break'",
     "output_type": "error",
     "traceback": [
      "\u001b[1;31m---------------------------------------------------------------------------\u001b[0m",
      "\u001b[1;31mValueError\u001b[0m                                Traceback (most recent call last)",
      "\u001b[1;32m~\\AppData\\Local\\Temp/ipykernel_22092/2203477725.py\u001b[0m in \u001b[0;36m<module>\u001b[1;34m\u001b[0m\n\u001b[0;32m      2\u001b[0m \u001b[1;33m\u001b[0m\u001b[0m\n\u001b[0;32m      3\u001b[0m \u001b[1;32mfor\u001b[0m \u001b[0mi\u001b[0m \u001b[1;32min\u001b[0m \u001b[0mrange\u001b[0m\u001b[1;33m(\u001b[0m\u001b[1;36m100\u001b[0m\u001b[1;33m)\u001b[0m\u001b[1;33m:\u001b[0m\u001b[1;33m\u001b[0m\u001b[1;33m\u001b[0m\u001b[0m\n\u001b[1;32m----> 4\u001b[1;33m     \u001b[0mv\u001b[0m \u001b[1;33m=\u001b[0m \u001b[0mfloat\u001b[0m\u001b[1;33m(\u001b[0m\u001b[0minput\u001b[0m\u001b[1;33m(\u001b[0m\u001b[1;33m)\u001b[0m\u001b[1;33m)\u001b[0m\u001b[1;33m\u001b[0m\u001b[1;33m\u001b[0m\u001b[0m\n\u001b[0m\u001b[0;32m      5\u001b[0m     \u001b[1;32mif\u001b[0m \u001b[0mv\u001b[0m \u001b[1;33m<=\u001b[0m \u001b[1;36m10\u001b[0m\u001b[1;33m:\u001b[0m\u001b[1;33m\u001b[0m\u001b[1;33m\u001b[0m\u001b[0m\n\u001b[0;32m      6\u001b[0m         \u001b[0mprint\u001b[0m\u001b[1;33m(\u001b[0m\u001b[1;34mf\"A[{i}] = {v}\"\u001b[0m\u001b[1;33m)\u001b[0m\u001b[1;33m\u001b[0m\u001b[1;33m\u001b[0m\u001b[0m\n",
      "\u001b[1;31mValueError\u001b[0m: could not convert string to float: 'break'"
     ]
    }
   ],
   "source": [
    "# 1174 - Seleção em Vetor I\n",
    "\n",
    "for i in range(100):\n",
    "    v = float(input())\n",
    "    if v <= 10:\n",
    "        print(f\"A[{i}] = {v}\")"
   ]
  },
  {
   "cell_type": "code",
   "execution_count": 99,
   "metadata": {},
   "outputs": [
    {
     "name": "stdin",
     "output_type": "stream",
     "text": [
      " 0\n",
      " -5\n",
      " 63\n",
      " 5\n",
      " 5\n",
      " 6\n",
      " 78\n",
      " 8\n",
      " 9\n",
      " 10\n",
      " 11\n",
      " 12\n",
      " 13\n",
      " 14\n",
      " 15\n",
      " 16\n",
      " 17\n",
      " 18\n",
      " 19\n",
      " 630\n"
     ]
    },
    {
     "name": "stdout",
     "output_type": "stream",
     "text": [
      "N[0] = 630\n",
      "N[1] = 19\n",
      "N[2] = 18\n",
      "N[3] = 17\n",
      "N[4] = 16\n",
      "N[5] = 15\n",
      "N[6] = 14\n",
      "N[7] = 13\n",
      "N[8] = 12\n",
      "N[9] = 11\n",
      "N[10] = 10\n",
      "N[11] = 9\n",
      "N[12] = 8\n",
      "N[13] = 78\n",
      "N[14] = 6\n",
      "N[15] = 5\n",
      "N[16] = 5\n",
      "N[17] = 63\n",
      "N[18] = -5\n",
      "N[19] = 0\n"
     ]
    }
   ],
   "source": [
    "# 1175 - Troca em Vetor I\n",
    "\n",
    "values = list()\n",
    "for i in range(20):\n",
    "    num = int(input())\n",
    "    values.append(num)\n",
    "    \n",
    "for n,i in enumerate(values[::-1]):\n",
    "    print(f\"N[{n}] = {i}\")"
   ]
  },
  {
   "cell_type": "code",
   "execution_count": 15,
   "metadata": {},
   "outputs": [
    {
     "name": "stdin",
     "output_type": "stream",
     "text": [
      " 1\n",
      " 1\n"
     ]
    },
    {
     "name": "stdout",
     "output_type": "stream",
     "text": [
      "Fib(1) = 1\n"
     ]
    }
   ],
   "source": [
    "# 1176 - Fibonacci em Vetor\n",
    "def f(n):\n",
    "    if n >= 1:\n",
    "        l = [0,1]\n",
    "        for i in range(2,n+1):\n",
    "            l.append(l[i-1] + l[i-2])\n",
    "        return l[-1]\n",
    "    elif n == 0:\n",
    "        return 0\n",
    "\n",
    "rep = int(input())\n",
    "c = 0\n",
    "while rep>c:\n",
    "    n = int(input())\n",
    "    \n",
    "    print(f\"Fib({n}) = {f(n)}\")\n",
    "    c += 1"
   ]
  },
  {
   "cell_type": "code",
   "execution_count": 16,
   "metadata": {
    "collapsed": true,
    "jupyter": {
     "outputs_hidden": true
    },
    "tags": []
   },
   "outputs": [
    {
     "name": "stdin",
     "output_type": "stream",
     "text": [
      " 3\n"
     ]
    },
    {
     "name": "stdout",
     "output_type": "stream",
     "text": [
      "N[0] = 0\n",
      "N[1] = 1\n",
      "N[2] = 2\n",
      "N[3] = 0\n",
      "N[4] = 1\n",
      "N[5] = 2\n",
      "N[6] = 0\n",
      "N[7] = 1\n",
      "N[8] = 2\n",
      "N[9] = 0\n",
      "N[10] = 1\n",
      "N[11] = 2\n",
      "N[12] = 0\n",
      "N[13] = 1\n",
      "N[14] = 2\n",
      "N[15] = 0\n",
      "N[16] = 1\n",
      "N[17] = 2\n",
      "N[18] = 0\n",
      "N[19] = 1\n",
      "N[20] = 2\n",
      "N[21] = 0\n",
      "N[22] = 1\n",
      "N[23] = 2\n",
      "N[24] = 0\n",
      "N[25] = 1\n",
      "N[26] = 2\n",
      "N[27] = 0\n",
      "N[28] = 1\n",
      "N[29] = 2\n",
      "N[30] = 0\n",
      "N[31] = 1\n",
      "N[32] = 2\n",
      "N[33] = 0\n",
      "N[34] = 1\n",
      "N[35] = 2\n",
      "N[36] = 0\n",
      "N[37] = 1\n",
      "N[38] = 2\n",
      "N[39] = 0\n",
      "N[40] = 1\n",
      "N[41] = 2\n",
      "N[42] = 0\n",
      "N[43] = 1\n",
      "N[44] = 2\n",
      "N[45] = 0\n",
      "N[46] = 1\n",
      "N[47] = 2\n",
      "N[48] = 0\n",
      "N[49] = 1\n",
      "N[50] = 2\n",
      "N[51] = 0\n",
      "N[52] = 1\n",
      "N[53] = 2\n",
      "N[54] = 0\n",
      "N[55] = 1\n",
      "N[56] = 2\n",
      "N[57] = 0\n",
      "N[58] = 1\n",
      "N[59] = 2\n",
      "N[60] = 0\n",
      "N[61] = 1\n",
      "N[62] = 2\n",
      "N[63] = 0\n",
      "N[64] = 1\n",
      "N[65] = 2\n",
      "N[66] = 0\n",
      "N[67] = 1\n",
      "N[68] = 2\n",
      "N[69] = 0\n",
      "N[70] = 1\n",
      "N[71] = 2\n",
      "N[72] = 0\n",
      "N[73] = 1\n",
      "N[74] = 2\n",
      "N[75] = 0\n",
      "N[76] = 1\n",
      "N[77] = 2\n",
      "N[78] = 0\n",
      "N[79] = 1\n",
      "N[80] = 2\n",
      "N[81] = 0\n",
      "N[82] = 1\n",
      "N[83] = 2\n",
      "N[84] = 0\n",
      "N[85] = 1\n",
      "N[86] = 2\n",
      "N[87] = 0\n",
      "N[88] = 1\n",
      "N[89] = 2\n",
      "N[90] = 0\n",
      "N[91] = 1\n",
      "N[92] = 2\n",
      "N[93] = 0\n",
      "N[94] = 1\n",
      "N[95] = 2\n",
      "N[96] = 0\n",
      "N[97] = 1\n",
      "N[98] = 2\n",
      "N[99] = 0\n",
      "N[100] = 1\n",
      "N[101] = 2\n",
      "N[102] = 0\n",
      "N[103] = 1\n",
      "N[104] = 2\n",
      "N[105] = 0\n",
      "N[106] = 1\n",
      "N[107] = 2\n",
      "N[108] = 0\n",
      "N[109] = 1\n",
      "N[110] = 2\n",
      "N[111] = 0\n",
      "N[112] = 1\n",
      "N[113] = 2\n",
      "N[114] = 0\n",
      "N[115] = 1\n",
      "N[116] = 2\n",
      "N[117] = 0\n",
      "N[118] = 1\n",
      "N[119] = 2\n",
      "N[120] = 0\n",
      "N[121] = 1\n",
      "N[122] = 2\n",
      "N[123] = 0\n",
      "N[124] = 1\n",
      "N[125] = 2\n",
      "N[126] = 0\n",
      "N[127] = 1\n",
      "N[128] = 2\n",
      "N[129] = 0\n",
      "N[130] = 1\n",
      "N[131] = 2\n",
      "N[132] = 0\n",
      "N[133] = 1\n",
      "N[134] = 2\n",
      "N[135] = 0\n",
      "N[136] = 1\n",
      "N[137] = 2\n",
      "N[138] = 0\n",
      "N[139] = 1\n",
      "N[140] = 2\n",
      "N[141] = 0\n",
      "N[142] = 1\n",
      "N[143] = 2\n",
      "N[144] = 0\n",
      "N[145] = 1\n",
      "N[146] = 2\n",
      "N[147] = 0\n",
      "N[148] = 1\n",
      "N[149] = 2\n",
      "N[150] = 0\n",
      "N[151] = 1\n",
      "N[152] = 2\n",
      "N[153] = 0\n",
      "N[154] = 1\n",
      "N[155] = 2\n",
      "N[156] = 0\n",
      "N[157] = 1\n",
      "N[158] = 2\n",
      "N[159] = 0\n",
      "N[160] = 1\n",
      "N[161] = 2\n",
      "N[162] = 0\n",
      "N[163] = 1\n",
      "N[164] = 2\n",
      "N[165] = 0\n",
      "N[166] = 1\n",
      "N[167] = 2\n",
      "N[168] = 0\n",
      "N[169] = 1\n",
      "N[170] = 2\n",
      "N[171] = 0\n",
      "N[172] = 1\n",
      "N[173] = 2\n",
      "N[174] = 0\n",
      "N[175] = 1\n",
      "N[176] = 2\n",
      "N[177] = 0\n",
      "N[178] = 1\n",
      "N[179] = 2\n",
      "N[180] = 0\n",
      "N[181] = 1\n",
      "N[182] = 2\n",
      "N[183] = 0\n",
      "N[184] = 1\n",
      "N[185] = 2\n",
      "N[186] = 0\n",
      "N[187] = 1\n",
      "N[188] = 2\n",
      "N[189] = 0\n",
      "N[190] = 1\n",
      "N[191] = 2\n",
      "N[192] = 0\n",
      "N[193] = 1\n",
      "N[194] = 2\n",
      "N[195] = 0\n",
      "N[196] = 1\n",
      "N[197] = 2\n",
      "N[198] = 0\n",
      "N[199] = 1\n",
      "N[200] = 2\n",
      "N[201] = 0\n",
      "N[202] = 1\n",
      "N[203] = 2\n",
      "N[204] = 0\n",
      "N[205] = 1\n",
      "N[206] = 2\n",
      "N[207] = 0\n",
      "N[208] = 1\n",
      "N[209] = 2\n",
      "N[210] = 0\n",
      "N[211] = 1\n",
      "N[212] = 2\n",
      "N[213] = 0\n",
      "N[214] = 1\n",
      "N[215] = 2\n",
      "N[216] = 0\n",
      "N[217] = 1\n",
      "N[218] = 2\n",
      "N[219] = 0\n",
      "N[220] = 1\n",
      "N[221] = 2\n",
      "N[222] = 0\n",
      "N[223] = 1\n",
      "N[224] = 2\n",
      "N[225] = 0\n",
      "N[226] = 1\n",
      "N[227] = 2\n",
      "N[228] = 0\n",
      "N[229] = 1\n",
      "N[230] = 2\n",
      "N[231] = 0\n",
      "N[232] = 1\n",
      "N[233] = 2\n",
      "N[234] = 0\n",
      "N[235] = 1\n",
      "N[236] = 2\n",
      "N[237] = 0\n",
      "N[238] = 1\n",
      "N[239] = 2\n",
      "N[240] = 0\n",
      "N[241] = 1\n",
      "N[242] = 2\n",
      "N[243] = 0\n",
      "N[244] = 1\n",
      "N[245] = 2\n",
      "N[246] = 0\n",
      "N[247] = 1\n",
      "N[248] = 2\n",
      "N[249] = 0\n",
      "N[250] = 1\n",
      "N[251] = 2\n",
      "N[252] = 0\n",
      "N[253] = 1\n",
      "N[254] = 2\n",
      "N[255] = 0\n",
      "N[256] = 1\n",
      "N[257] = 2\n",
      "N[258] = 0\n",
      "N[259] = 1\n",
      "N[260] = 2\n",
      "N[261] = 0\n",
      "N[262] = 1\n",
      "N[263] = 2\n",
      "N[264] = 0\n",
      "N[265] = 1\n",
      "N[266] = 2\n",
      "N[267] = 0\n",
      "N[268] = 1\n",
      "N[269] = 2\n",
      "N[270] = 0\n",
      "N[271] = 1\n",
      "N[272] = 2\n",
      "N[273] = 0\n",
      "N[274] = 1\n",
      "N[275] = 2\n",
      "N[276] = 0\n",
      "N[277] = 1\n",
      "N[278] = 2\n",
      "N[279] = 0\n",
      "N[280] = 1\n",
      "N[281] = 2\n",
      "N[282] = 0\n",
      "N[283] = 1\n",
      "N[284] = 2\n",
      "N[285] = 0\n",
      "N[286] = 1\n",
      "N[287] = 2\n",
      "N[288] = 0\n",
      "N[289] = 1\n",
      "N[290] = 2\n",
      "N[291] = 0\n",
      "N[292] = 1\n",
      "N[293] = 2\n",
      "N[294] = 0\n",
      "N[295] = 1\n",
      "N[296] = 2\n",
      "N[297] = 0\n",
      "N[298] = 1\n",
      "N[299] = 2\n",
      "N[300] = 0\n",
      "N[301] = 1\n",
      "N[302] = 2\n",
      "N[303] = 0\n",
      "N[304] = 1\n",
      "N[305] = 2\n",
      "N[306] = 0\n",
      "N[307] = 1\n",
      "N[308] = 2\n",
      "N[309] = 0\n",
      "N[310] = 1\n",
      "N[311] = 2\n",
      "N[312] = 0\n",
      "N[313] = 1\n",
      "N[314] = 2\n",
      "N[315] = 0\n",
      "N[316] = 1\n",
      "N[317] = 2\n",
      "N[318] = 0\n",
      "N[319] = 1\n",
      "N[320] = 2\n",
      "N[321] = 0\n",
      "N[322] = 1\n",
      "N[323] = 2\n",
      "N[324] = 0\n",
      "N[325] = 1\n",
      "N[326] = 2\n",
      "N[327] = 0\n",
      "N[328] = 1\n",
      "N[329] = 2\n",
      "N[330] = 0\n",
      "N[331] = 1\n",
      "N[332] = 2\n",
      "N[333] = 0\n",
      "N[334] = 1\n",
      "N[335] = 2\n",
      "N[336] = 0\n",
      "N[337] = 1\n",
      "N[338] = 2\n",
      "N[339] = 0\n",
      "N[340] = 1\n",
      "N[341] = 2\n",
      "N[342] = 0\n",
      "N[343] = 1\n",
      "N[344] = 2\n",
      "N[345] = 0\n",
      "N[346] = 1\n",
      "N[347] = 2\n",
      "N[348] = 0\n",
      "N[349] = 1\n",
      "N[350] = 2\n",
      "N[351] = 0\n",
      "N[352] = 1\n",
      "N[353] = 2\n",
      "N[354] = 0\n",
      "N[355] = 1\n",
      "N[356] = 2\n",
      "N[357] = 0\n",
      "N[358] = 1\n",
      "N[359] = 2\n",
      "N[360] = 0\n",
      "N[361] = 1\n",
      "N[362] = 2\n",
      "N[363] = 0\n",
      "N[364] = 1\n",
      "N[365] = 2\n",
      "N[366] = 0\n",
      "N[367] = 1\n",
      "N[368] = 2\n",
      "N[369] = 0\n",
      "N[370] = 1\n",
      "N[371] = 2\n",
      "N[372] = 0\n",
      "N[373] = 1\n",
      "N[374] = 2\n",
      "N[375] = 0\n",
      "N[376] = 1\n",
      "N[377] = 2\n",
      "N[378] = 0\n",
      "N[379] = 1\n",
      "N[380] = 2\n",
      "N[381] = 0\n",
      "N[382] = 1\n",
      "N[383] = 2\n",
      "N[384] = 0\n",
      "N[385] = 1\n",
      "N[386] = 2\n",
      "N[387] = 0\n",
      "N[388] = 1\n",
      "N[389] = 2\n",
      "N[390] = 0\n",
      "N[391] = 1\n",
      "N[392] = 2\n",
      "N[393] = 0\n",
      "N[394] = 1\n",
      "N[395] = 2\n",
      "N[396] = 0\n",
      "N[397] = 1\n",
      "N[398] = 2\n",
      "N[399] = 0\n",
      "N[400] = 1\n",
      "N[401] = 2\n",
      "N[402] = 0\n",
      "N[403] = 1\n",
      "N[404] = 2\n",
      "N[405] = 0\n",
      "N[406] = 1\n",
      "N[407] = 2\n",
      "N[408] = 0\n",
      "N[409] = 1\n",
      "N[410] = 2\n",
      "N[411] = 0\n",
      "N[412] = 1\n",
      "N[413] = 2\n",
      "N[414] = 0\n",
      "N[415] = 1\n",
      "N[416] = 2\n",
      "N[417] = 0\n",
      "N[418] = 1\n",
      "N[419] = 2\n",
      "N[420] = 0\n",
      "N[421] = 1\n",
      "N[422] = 2\n",
      "N[423] = 0\n",
      "N[424] = 1\n",
      "N[425] = 2\n",
      "N[426] = 0\n",
      "N[427] = 1\n",
      "N[428] = 2\n",
      "N[429] = 0\n",
      "N[430] = 1\n",
      "N[431] = 2\n",
      "N[432] = 0\n",
      "N[433] = 1\n",
      "N[434] = 2\n",
      "N[435] = 0\n",
      "N[436] = 1\n",
      "N[437] = 2\n",
      "N[438] = 0\n",
      "N[439] = 1\n",
      "N[440] = 2\n",
      "N[441] = 0\n",
      "N[442] = 1\n",
      "N[443] = 2\n",
      "N[444] = 0\n",
      "N[445] = 1\n",
      "N[446] = 2\n",
      "N[447] = 0\n",
      "N[448] = 1\n",
      "N[449] = 2\n",
      "N[450] = 0\n",
      "N[451] = 1\n",
      "N[452] = 2\n",
      "N[453] = 0\n",
      "N[454] = 1\n",
      "N[455] = 2\n",
      "N[456] = 0\n",
      "N[457] = 1\n",
      "N[458] = 2\n",
      "N[459] = 0\n",
      "N[460] = 1\n",
      "N[461] = 2\n",
      "N[462] = 0\n",
      "N[463] = 1\n",
      "N[464] = 2\n",
      "N[465] = 0\n",
      "N[466] = 1\n",
      "N[467] = 2\n",
      "N[468] = 0\n",
      "N[469] = 1\n",
      "N[470] = 2\n",
      "N[471] = 0\n",
      "N[472] = 1\n",
      "N[473] = 2\n",
      "N[474] = 0\n",
      "N[475] = 1\n",
      "N[476] = 2\n",
      "N[477] = 0\n",
      "N[478] = 1\n",
      "N[479] = 2\n",
      "N[480] = 0\n",
      "N[481] = 1\n",
      "N[482] = 2\n",
      "N[483] = 0\n",
      "N[484] = 1\n",
      "N[485] = 2\n",
      "N[486] = 0\n",
      "N[487] = 1\n",
      "N[488] = 2\n",
      "N[489] = 0\n",
      "N[490] = 1\n",
      "N[491] = 2\n",
      "N[492] = 0\n",
      "N[493] = 1\n",
      "N[494] = 2\n",
      "N[495] = 0\n",
      "N[496] = 1\n",
      "N[497] = 2\n",
      "N[498] = 0\n",
      "N[499] = 1\n",
      "N[500] = 2\n",
      "N[501] = 0\n",
      "N[502] = 1\n",
      "N[503] = 2\n",
      "N[504] = 0\n",
      "N[505] = 1\n",
      "N[506] = 2\n",
      "N[507] = 0\n",
      "N[508] = 1\n",
      "N[509] = 2\n",
      "N[510] = 0\n",
      "N[511] = 1\n",
      "N[512] = 2\n",
      "N[513] = 0\n",
      "N[514] = 1\n",
      "N[515] = 2\n",
      "N[516] = 0\n",
      "N[517] = 1\n",
      "N[518] = 2\n",
      "N[519] = 0\n",
      "N[520] = 1\n",
      "N[521] = 2\n",
      "N[522] = 0\n",
      "N[523] = 1\n",
      "N[524] = 2\n",
      "N[525] = 0\n",
      "N[526] = 1\n",
      "N[527] = 2\n",
      "N[528] = 0\n",
      "N[529] = 1\n",
      "N[530] = 2\n",
      "N[531] = 0\n",
      "N[532] = 1\n",
      "N[533] = 2\n",
      "N[534] = 0\n",
      "N[535] = 1\n",
      "N[536] = 2\n",
      "N[537] = 0\n",
      "N[538] = 1\n",
      "N[539] = 2\n",
      "N[540] = 0\n",
      "N[541] = 1\n",
      "N[542] = 2\n",
      "N[543] = 0\n",
      "N[544] = 1\n",
      "N[545] = 2\n",
      "N[546] = 0\n",
      "N[547] = 1\n",
      "N[548] = 2\n",
      "N[549] = 0\n",
      "N[550] = 1\n",
      "N[551] = 2\n",
      "N[552] = 0\n",
      "N[553] = 1\n",
      "N[554] = 2\n",
      "N[555] = 0\n",
      "N[556] = 1\n",
      "N[557] = 2\n",
      "N[558] = 0\n",
      "N[559] = 1\n",
      "N[560] = 2\n",
      "N[561] = 0\n",
      "N[562] = 1\n",
      "N[563] = 2\n",
      "N[564] = 0\n",
      "N[565] = 1\n",
      "N[566] = 2\n",
      "N[567] = 0\n",
      "N[568] = 1\n",
      "N[569] = 2\n",
      "N[570] = 0\n",
      "N[571] = 1\n",
      "N[572] = 2\n",
      "N[573] = 0\n",
      "N[574] = 1\n",
      "N[575] = 2\n",
      "N[576] = 0\n",
      "N[577] = 1\n",
      "N[578] = 2\n",
      "N[579] = 0\n",
      "N[580] = 1\n",
      "N[581] = 2\n",
      "N[582] = 0\n",
      "N[583] = 1\n",
      "N[584] = 2\n",
      "N[585] = 0\n",
      "N[586] = 1\n",
      "N[587] = 2\n",
      "N[588] = 0\n",
      "N[589] = 1\n",
      "N[590] = 2\n",
      "N[591] = 0\n",
      "N[592] = 1\n",
      "N[593] = 2\n",
      "N[594] = 0\n",
      "N[595] = 1\n",
      "N[596] = 2\n",
      "N[597] = 0\n",
      "N[598] = 1\n",
      "N[599] = 2\n",
      "N[600] = 0\n",
      "N[601] = 1\n",
      "N[602] = 2\n",
      "N[603] = 0\n",
      "N[604] = 1\n",
      "N[605] = 2\n",
      "N[606] = 0\n",
      "N[607] = 1\n",
      "N[608] = 2\n",
      "N[609] = 0\n",
      "N[610] = 1\n",
      "N[611] = 2\n",
      "N[612] = 0\n",
      "N[613] = 1\n",
      "N[614] = 2\n",
      "N[615] = 0\n",
      "N[616] = 1\n",
      "N[617] = 2\n",
      "N[618] = 0\n",
      "N[619] = 1\n",
      "N[620] = 2\n",
      "N[621] = 0\n",
      "N[622] = 1\n",
      "N[623] = 2\n",
      "N[624] = 0\n",
      "N[625] = 1\n",
      "N[626] = 2\n",
      "N[627] = 0\n",
      "N[628] = 1\n",
      "N[629] = 2\n",
      "N[630] = 0\n",
      "N[631] = 1\n",
      "N[632] = 2\n",
      "N[633] = 0\n",
      "N[634] = 1\n",
      "N[635] = 2\n",
      "N[636] = 0\n",
      "N[637] = 1\n",
      "N[638] = 2\n",
      "N[639] = 0\n",
      "N[640] = 1\n",
      "N[641] = 2\n",
      "N[642] = 0\n",
      "N[643] = 1\n",
      "N[644] = 2\n",
      "N[645] = 0\n",
      "N[646] = 1\n",
      "N[647] = 2\n",
      "N[648] = 0\n",
      "N[649] = 1\n",
      "N[650] = 2\n",
      "N[651] = 0\n",
      "N[652] = 1\n",
      "N[653] = 2\n",
      "N[654] = 0\n",
      "N[655] = 1\n",
      "N[656] = 2\n",
      "N[657] = 0\n",
      "N[658] = 1\n",
      "N[659] = 2\n",
      "N[660] = 0\n",
      "N[661] = 1\n",
      "N[662] = 2\n",
      "N[663] = 0\n",
      "N[664] = 1\n",
      "N[665] = 2\n",
      "N[666] = 0\n",
      "N[667] = 1\n",
      "N[668] = 2\n",
      "N[669] = 0\n",
      "N[670] = 1\n",
      "N[671] = 2\n",
      "N[672] = 0\n",
      "N[673] = 1\n",
      "N[674] = 2\n",
      "N[675] = 0\n",
      "N[676] = 1\n",
      "N[677] = 2\n",
      "N[678] = 0\n",
      "N[679] = 1\n",
      "N[680] = 2\n",
      "N[681] = 0\n",
      "N[682] = 1\n",
      "N[683] = 2\n",
      "N[684] = 0\n",
      "N[685] = 1\n",
      "N[686] = 2\n",
      "N[687] = 0\n",
      "N[688] = 1\n",
      "N[689] = 2\n",
      "N[690] = 0\n",
      "N[691] = 1\n",
      "N[692] = 2\n",
      "N[693] = 0\n",
      "N[694] = 1\n",
      "N[695] = 2\n",
      "N[696] = 0\n",
      "N[697] = 1\n",
      "N[698] = 2\n",
      "N[699] = 0\n",
      "N[700] = 1\n",
      "N[701] = 2\n",
      "N[702] = 0\n",
      "N[703] = 1\n",
      "N[704] = 2\n",
      "N[705] = 0\n",
      "N[706] = 1\n",
      "N[707] = 2\n",
      "N[708] = 0\n",
      "N[709] = 1\n",
      "N[710] = 2\n",
      "N[711] = 0\n",
      "N[712] = 1\n",
      "N[713] = 2\n",
      "N[714] = 0\n",
      "N[715] = 1\n",
      "N[716] = 2\n",
      "N[717] = 0\n",
      "N[718] = 1\n",
      "N[719] = 2\n",
      "N[720] = 0\n",
      "N[721] = 1\n",
      "N[722] = 2\n",
      "N[723] = 0\n",
      "N[724] = 1\n",
      "N[725] = 2\n",
      "N[726] = 0\n",
      "N[727] = 1\n",
      "N[728] = 2\n",
      "N[729] = 0\n",
      "N[730] = 1\n",
      "N[731] = 2\n",
      "N[732] = 0\n",
      "N[733] = 1\n",
      "N[734] = 2\n",
      "N[735] = 0\n",
      "N[736] = 1\n",
      "N[737] = 2\n",
      "N[738] = 0\n",
      "N[739] = 1\n",
      "N[740] = 2\n",
      "N[741] = 0\n",
      "N[742] = 1\n",
      "N[743] = 2\n",
      "N[744] = 0\n",
      "N[745] = 1\n",
      "N[746] = 2\n",
      "N[747] = 0\n",
      "N[748] = 1\n",
      "N[749] = 2\n",
      "N[750] = 0\n",
      "N[751] = 1\n",
      "N[752] = 2\n",
      "N[753] = 0\n",
      "N[754] = 1\n",
      "N[755] = 2\n",
      "N[756] = 0\n",
      "N[757] = 1\n",
      "N[758] = 2\n",
      "N[759] = 0\n",
      "N[760] = 1\n",
      "N[761] = 2\n",
      "N[762] = 0\n",
      "N[763] = 1\n",
      "N[764] = 2\n",
      "N[765] = 0\n",
      "N[766] = 1\n",
      "N[767] = 2\n",
      "N[768] = 0\n",
      "N[769] = 1\n",
      "N[770] = 2\n",
      "N[771] = 0\n",
      "N[772] = 1\n",
      "N[773] = 2\n",
      "N[774] = 0\n",
      "N[775] = 1\n",
      "N[776] = 2\n",
      "N[777] = 0\n",
      "N[778] = 1\n",
      "N[779] = 2\n",
      "N[780] = 0\n",
      "N[781] = 1\n",
      "N[782] = 2\n",
      "N[783] = 0\n",
      "N[784] = 1\n",
      "N[785] = 2\n",
      "N[786] = 0\n",
      "N[787] = 1\n",
      "N[788] = 2\n",
      "N[789] = 0\n",
      "N[790] = 1\n",
      "N[791] = 2\n",
      "N[792] = 0\n",
      "N[793] = 1\n",
      "N[794] = 2\n",
      "N[795] = 0\n",
      "N[796] = 1\n",
      "N[797] = 2\n",
      "N[798] = 0\n",
      "N[799] = 1\n",
      "N[800] = 2\n",
      "N[801] = 0\n",
      "N[802] = 1\n",
      "N[803] = 2\n",
      "N[804] = 0\n",
      "N[805] = 1\n",
      "N[806] = 2\n",
      "N[807] = 0\n",
      "N[808] = 1\n",
      "N[809] = 2\n",
      "N[810] = 0\n",
      "N[811] = 1\n",
      "N[812] = 2\n",
      "N[813] = 0\n",
      "N[814] = 1\n",
      "N[815] = 2\n",
      "N[816] = 0\n",
      "N[817] = 1\n",
      "N[818] = 2\n",
      "N[819] = 0\n",
      "N[820] = 1\n",
      "N[821] = 2\n",
      "N[822] = 0\n",
      "N[823] = 1\n",
      "N[824] = 2\n",
      "N[825] = 0\n",
      "N[826] = 1\n",
      "N[827] = 2\n",
      "N[828] = 0\n",
      "N[829] = 1\n",
      "N[830] = 2\n",
      "N[831] = 0\n",
      "N[832] = 1\n",
      "N[833] = 2\n",
      "N[834] = 0\n",
      "N[835] = 1\n",
      "N[836] = 2\n",
      "N[837] = 0\n",
      "N[838] = 1\n",
      "N[839] = 2\n",
      "N[840] = 0\n",
      "N[841] = 1\n",
      "N[842] = 2\n",
      "N[843] = 0\n",
      "N[844] = 1\n",
      "N[845] = 2\n",
      "N[846] = 0\n",
      "N[847] = 1\n",
      "N[848] = 2\n",
      "N[849] = 0\n",
      "N[850] = 1\n",
      "N[851] = 2\n",
      "N[852] = 0\n",
      "N[853] = 1\n",
      "N[854] = 2\n",
      "N[855] = 0\n",
      "N[856] = 1\n",
      "N[857] = 2\n",
      "N[858] = 0\n",
      "N[859] = 1\n",
      "N[860] = 2\n",
      "N[861] = 0\n",
      "N[862] = 1\n",
      "N[863] = 2\n",
      "N[864] = 0\n",
      "N[865] = 1\n",
      "N[866] = 2\n",
      "N[867] = 0\n",
      "N[868] = 1\n",
      "N[869] = 2\n",
      "N[870] = 0\n",
      "N[871] = 1\n",
      "N[872] = 2\n",
      "N[873] = 0\n",
      "N[874] = 1\n",
      "N[875] = 2\n",
      "N[876] = 0\n",
      "N[877] = 1\n",
      "N[878] = 2\n",
      "N[879] = 0\n",
      "N[880] = 1\n",
      "N[881] = 2\n",
      "N[882] = 0\n",
      "N[883] = 1\n",
      "N[884] = 2\n",
      "N[885] = 0\n",
      "N[886] = 1\n",
      "N[887] = 2\n",
      "N[888] = 0\n",
      "N[889] = 1\n",
      "N[890] = 2\n",
      "N[891] = 0\n",
      "N[892] = 1\n",
      "N[893] = 2\n",
      "N[894] = 0\n",
      "N[895] = 1\n",
      "N[896] = 2\n",
      "N[897] = 0\n",
      "N[898] = 1\n",
      "N[899] = 2\n",
      "N[900] = 0\n",
      "N[901] = 1\n",
      "N[902] = 2\n",
      "N[903] = 0\n",
      "N[904] = 1\n",
      "N[905] = 2\n",
      "N[906] = 0\n",
      "N[907] = 1\n",
      "N[908] = 2\n",
      "N[909] = 0\n",
      "N[910] = 1\n",
      "N[911] = 2\n",
      "N[912] = 0\n",
      "N[913] = 1\n",
      "N[914] = 2\n",
      "N[915] = 0\n",
      "N[916] = 1\n",
      "N[917] = 2\n",
      "N[918] = 0\n",
      "N[919] = 1\n",
      "N[920] = 2\n",
      "N[921] = 0\n",
      "N[922] = 1\n",
      "N[923] = 2\n",
      "N[924] = 0\n",
      "N[925] = 1\n",
      "N[926] = 2\n",
      "N[927] = 0\n",
      "N[928] = 1\n",
      "N[929] = 2\n",
      "N[930] = 0\n",
      "N[931] = 1\n",
      "N[932] = 2\n",
      "N[933] = 0\n",
      "N[934] = 1\n",
      "N[935] = 2\n",
      "N[936] = 0\n",
      "N[937] = 1\n",
      "N[938] = 2\n",
      "N[939] = 0\n",
      "N[940] = 1\n",
      "N[941] = 2\n",
      "N[942] = 0\n",
      "N[943] = 1\n",
      "N[944] = 2\n",
      "N[945] = 0\n",
      "N[946] = 1\n",
      "N[947] = 2\n",
      "N[948] = 0\n",
      "N[949] = 1\n",
      "N[950] = 2\n",
      "N[951] = 0\n",
      "N[952] = 1\n",
      "N[953] = 2\n",
      "N[954] = 0\n",
      "N[955] = 1\n",
      "N[956] = 2\n",
      "N[957] = 0\n",
      "N[958] = 1\n",
      "N[959] = 2\n",
      "N[960] = 0\n",
      "N[961] = 1\n",
      "N[962] = 2\n",
      "N[963] = 0\n",
      "N[964] = 1\n",
      "N[965] = 2\n",
      "N[966] = 0\n",
      "N[967] = 1\n",
      "N[968] = 2\n",
      "N[969] = 0\n",
      "N[970] = 1\n",
      "N[971] = 2\n",
      "N[972] = 0\n",
      "N[973] = 1\n",
      "N[974] = 2\n",
      "N[975] = 0\n",
      "N[976] = 1\n",
      "N[977] = 2\n",
      "N[978] = 0\n",
      "N[979] = 1\n",
      "N[980] = 2\n",
      "N[981] = 0\n",
      "N[982] = 1\n",
      "N[983] = 2\n",
      "N[984] = 0\n",
      "N[985] = 1\n",
      "N[986] = 2\n",
      "N[987] = 0\n",
      "N[988] = 1\n",
      "N[989] = 2\n",
      "N[990] = 0\n",
      "N[991] = 1\n",
      "N[992] = 2\n",
      "N[993] = 0\n",
      "N[994] = 1\n",
      "N[995] = 2\n",
      "N[996] = 0\n",
      "N[997] = 1\n",
      "N[998] = 2\n",
      "N[999] = 0\n"
     ]
    }
   ],
   "source": [
    "# 1177 - Preenchimento de Vetor II\n",
    "\n",
    "n = int(input())\n",
    "c = 0\n",
    "for i in range(1000):\n",
    "    print(f\"N[{i}] = {c}\")\n",
    "    c += 1\n",
    "    if c == n:\n",
    "        c = 0\n",
    "        "
   ]
  },
  {
   "cell_type": "code",
   "execution_count": 17,
   "metadata": {
    "collapsed": true,
    "jupyter": {
     "outputs_hidden": true
    },
    "tags": []
   },
   "outputs": [
    {
     "name": "stdin",
     "output_type": "stream",
     "text": [
      " 200\n"
     ]
    },
    {
     "name": "stdout",
     "output_type": "stream",
     "text": [
      "N[0] = 200.0000\n",
      "N[1] = 100.0000\n",
      "N[2] = 50.0000\n",
      "N[3] = 25.0000\n",
      "N[4] = 12.5000\n",
      "N[5] = 6.2500\n",
      "N[6] = 3.1250\n",
      "N[7] = 1.5625\n",
      "N[8] = 0.7812\n",
      "N[9] = 0.3906\n",
      "N[10] = 0.1953\n",
      "N[11] = 0.0977\n",
      "N[12] = 0.0488\n",
      "N[13] = 0.0244\n",
      "N[14] = 0.0122\n",
      "N[15] = 0.0061\n",
      "N[16] = 0.0031\n",
      "N[17] = 0.0015\n",
      "N[18] = 0.0008\n",
      "N[19] = 0.0004\n",
      "N[20] = 0.0002\n",
      "N[21] = 0.0001\n",
      "N[22] = 0.0000\n",
      "N[23] = 0.0000\n",
      "N[24] = 0.0000\n",
      "N[25] = 0.0000\n",
      "N[26] = 0.0000\n",
      "N[27] = 0.0000\n",
      "N[28] = 0.0000\n",
      "N[29] = 0.0000\n",
      "N[30] = 0.0000\n",
      "N[31] = 0.0000\n",
      "N[32] = 0.0000\n",
      "N[33] = 0.0000\n",
      "N[34] = 0.0000\n",
      "N[35] = 0.0000\n",
      "N[36] = 0.0000\n",
      "N[37] = 0.0000\n",
      "N[38] = 0.0000\n",
      "N[39] = 0.0000\n",
      "N[40] = 0.0000\n",
      "N[41] = 0.0000\n",
      "N[42] = 0.0000\n",
      "N[43] = 0.0000\n",
      "N[44] = 0.0000\n",
      "N[45] = 0.0000\n",
      "N[46] = 0.0000\n",
      "N[47] = 0.0000\n",
      "N[48] = 0.0000\n",
      "N[49] = 0.0000\n",
      "N[50] = 0.0000\n",
      "N[51] = 0.0000\n",
      "N[52] = 0.0000\n",
      "N[53] = 0.0000\n",
      "N[54] = 0.0000\n",
      "N[55] = 0.0000\n",
      "N[56] = 0.0000\n",
      "N[57] = 0.0000\n",
      "N[58] = 0.0000\n",
      "N[59] = 0.0000\n",
      "N[60] = 0.0000\n",
      "N[61] = 0.0000\n",
      "N[62] = 0.0000\n",
      "N[63] = 0.0000\n",
      "N[64] = 0.0000\n",
      "N[65] = 0.0000\n",
      "N[66] = 0.0000\n",
      "N[67] = 0.0000\n",
      "N[68] = 0.0000\n",
      "N[69] = 0.0000\n",
      "N[70] = 0.0000\n",
      "N[71] = 0.0000\n",
      "N[72] = 0.0000\n",
      "N[73] = 0.0000\n",
      "N[74] = 0.0000\n",
      "N[75] = 0.0000\n",
      "N[76] = 0.0000\n",
      "N[77] = 0.0000\n",
      "N[78] = 0.0000\n",
      "N[79] = 0.0000\n",
      "N[80] = 0.0000\n",
      "N[81] = 0.0000\n",
      "N[82] = 0.0000\n",
      "N[83] = 0.0000\n",
      "N[84] = 0.0000\n",
      "N[85] = 0.0000\n",
      "N[86] = 0.0000\n",
      "N[87] = 0.0000\n",
      "N[88] = 0.0000\n",
      "N[89] = 0.0000\n",
      "N[90] = 0.0000\n",
      "N[91] = 0.0000\n",
      "N[92] = 0.0000\n",
      "N[93] = 0.0000\n",
      "N[94] = 0.0000\n",
      "N[95] = 0.0000\n",
      "N[96] = 0.0000\n",
      "N[97] = 0.0000\n",
      "N[98] = 0.0000\n",
      "N[99] = 0.0000\n"
     ]
    }
   ],
   "source": [
    "# 1178 - Preenchimento de Vetor III\n",
    "\n",
    "x = float(input())\n",
    "\n",
    "for i in range(100):\n",
    "    print(\"N[{}] = {:.4f}\".format(i,x))\n",
    "    x /= 2"
   ]
  },
  {
   "cell_type": "code",
   "execution_count": 26,
   "metadata": {},
   "outputs": [
    {
     "name": "stdin",
     "output_type": "stream",
     "text": [
      " 1\n",
      " 3\n",
      " 4\n",
      " -4\n",
      " 2\n",
      " 3\n",
      " 8\n",
      " 2\n"
     ]
    },
    {
     "name": "stdout",
     "output_type": "stream",
     "text": [
      "par[0] = 4\n",
      "par[1] = -4\n",
      "par[2] = 2\n",
      "par[3] = 8\n",
      "par[4] = 2\n"
     ]
    },
    {
     "name": "stdin",
     "output_type": "stream",
     "text": [
      " 5\n",
      " -7\n"
     ]
    },
    {
     "name": "stdout",
     "output_type": "stream",
     "text": [
      "impar[0] = 1\n",
      "impar[1] = 3\n",
      "impar[2] = 3\n",
      "impar[3] = 5\n",
      "impar[4] = -7\n"
     ]
    },
    {
     "name": "stdin",
     "output_type": "stream",
     "text": [
      " 54\n",
      " 76\n",
      " 789\n",
      " 23\n",
      " 98\n"
     ]
    },
    {
     "name": "stdout",
     "output_type": "stream",
     "text": [
      "impar[0] = 789\n",
      "impar[1] = 23\n",
      "par[0] = 54\n",
      "par[1] = 76\n",
      "par[2] = 98\n"
     ]
    }
   ],
   "source": [
    "# 1179 - Preenchimento de Vetor IV\n",
    "l_par = list()\n",
    "l_impar = list()\n",
    "for i in range(15):\n",
    "    n = int(input())\n",
    "    \n",
    "    if n % 2 == 0:\n",
    "        l_par.append(n)\n",
    "        if len(l_par) == 5:\n",
    "            for n,i in enumerate(l_par):\n",
    "                print(f\"par[{n}] = {i}\")\n",
    "            l_par = list()\n",
    "    else:\n",
    "        l_impar.append(n)\n",
    "        if len(l_impar) == 5:\n",
    "            for n,i in enumerate(l_impar):\n",
    "                print(f\"impar[{n}] = {i}\")\n",
    "            l_impar = list()\n",
    "\n",
    "    if i == 14:\n",
    "        if len(l_impar) > 0:\n",
    "            for n,i in enumerate(l_impar):\n",
    "                    print(f\"impar[{n}] = {i}\")\n",
    "        if len(l_par) > 0:\n",
    "            for n,i in enumerate(l_par):\n",
    "                    print(f\"par[{n}] = {i}\")"
   ]
  },
  {
   "cell_type": "code",
   "execution_count": 88,
   "metadata": {},
   "outputs": [
    {
     "name": "stdin",
     "output_type": "stream",
     "text": [
      " 10\n",
      " 1 2 3 4 -5 6 7 8 9 10\n"
     ]
    },
    {
     "name": "stdout",
     "output_type": "stream",
     "text": [
      "Menor valor: -5\n",
      "Posicao: 4\n"
     ]
    }
   ],
   "source": [
    "# 1180 - Menor e Posição\n",
    "\n",
    "n = int(input())\n",
    "vetor = [0] * n\n",
    "x = input().split(\" \")\n",
    "\n",
    "for i in range(n):\n",
    "    vetor[i] = int(x[i])\n",
    "\n",
    "print(\"Menor valor: {}\".format(min(vetor)))\n",
    "print(\"Posicao: {}\".format(vetor.index(min(vetor))))"
   ]
  },
  {
   "cell_type": "code",
   "execution_count": 101,
   "metadata": {},
   "outputs": [
    {
     "name": "stdin",
     "output_type": "stream",
     "text": [
      " 2\n",
      " s\n"
     ]
    },
    {
     "name": "stdout",
     "output_type": "stream",
     "text": [
      "132.0\n"
     ]
    }
   ],
   "source": [
    "# 1181 - Linha na Matriz\n",
    "\n",
    "linha = int(input())\n",
    "\n",
    "operacao = input().upper()\n",
    "\n",
    "matriz = [[0 for _ in range(12)] for _ in range(12)]\n",
    "\n",
    "for i in range(12):\n",
    "    for j in range(12):\n",
    "        num = float(input())\n",
    "        matriz[i][j] = num\n",
    "        \n",
    "if operacao == \"S\":\n",
    "    print(\"{:.1f}\".format(sum(matriz[linha])))\n",
    "else:\n",
    "    print(\"{:.1f}\".format(sum(matriz[linha])/len(matriz[linha])))"
   ]
  },
  {
   "cell_type": "code",
   "execution_count": 105,
   "metadata": {},
   "outputs": [
    {
     "name": "stdin",
     "output_type": "stream",
     "text": [
      " a\n"
     ]
    },
    {
     "ename": "ValueError",
     "evalue": "invalid literal for int() with base 10: 'a'",
     "output_type": "error",
     "traceback": [
      "\u001b[1;31m---------------------------------------------------------------------------\u001b[0m",
      "\u001b[1;31mValueError\u001b[0m                                Traceback (most recent call last)",
      "\u001b[1;32m~\\AppData\\Local\\Temp/ipykernel_11724/2918591026.py\u001b[0m in \u001b[0;36m<module>\u001b[1;34m\u001b[0m\n\u001b[0;32m      1\u001b[0m \u001b[1;31m# 1182 - Coluna na Matriz\u001b[0m\u001b[1;33m\u001b[0m\u001b[1;33m\u001b[0m\u001b[0m\n\u001b[0;32m      2\u001b[0m \u001b[1;33m\u001b[0m\u001b[0m\n\u001b[1;32m----> 3\u001b[1;33m \u001b[0mcoluna\u001b[0m \u001b[1;33m=\u001b[0m \u001b[0mint\u001b[0m\u001b[1;33m(\u001b[0m\u001b[0minput\u001b[0m\u001b[1;33m(\u001b[0m\u001b[1;33m)\u001b[0m\u001b[1;33m)\u001b[0m\u001b[1;33m\u001b[0m\u001b[1;33m\u001b[0m\u001b[0m\n\u001b[0m\u001b[0;32m      4\u001b[0m \u001b[1;33m\u001b[0m\u001b[0m\n\u001b[0;32m      5\u001b[0m \u001b[0moperacao\u001b[0m \u001b[1;33m=\u001b[0m \u001b[0minput\u001b[0m\u001b[1;33m(\u001b[0m\u001b[1;33m)\u001b[0m\u001b[1;33m.\u001b[0m\u001b[0mupper\u001b[0m\u001b[1;33m(\u001b[0m\u001b[1;33m)\u001b[0m\u001b[1;33m\u001b[0m\u001b[1;33m\u001b[0m\u001b[0m\n",
      "\u001b[1;31mValueError\u001b[0m: invalid literal for int() with base 10: 'a'"
     ]
    }
   ],
   "source": [
    "# 1182 - Coluna na Matriz\n",
    "\n",
    "coluna = int(input())\n",
    "\n",
    "operacao = input().upper()\n",
    "\n",
    "matriz = [[0 for _ in range(12)] for _ in range(12)]\n",
    "\n",
    "for i in range(12):\n",
    "    for j in range(12):\n",
    "        num = float(input())\n",
    "        matriz[i][j] = num\n",
    "\n",
    "m_col = [_[coluna] for _ in matriz]\n",
    "if operacao == \"S\":\n",
    "    print(\"{:.1f}\".format(sum(m_col)))\n",
    "else:\n",
    "    print(\"{:.1f}\".format(sum(m_col)/len(m_col)))"
   ]
  },
  {
   "cell_type": "code",
   "execution_count": 18,
   "metadata": {},
   "outputs": [
    {
     "name": "stdin",
     "output_type": "stream",
     "text": [
      " a\n"
     ]
    },
    {
     "name": "stdout",
     "output_type": "stream",
     "text": [
      "48.7\n"
     ]
    }
   ],
   "source": [
    "# 1183 - Acima da Diagonal Principal\n",
    "\n",
    "# def gen144():\n",
    "#     lista = [_ for _ in range(1,145)]\n",
    "#     for i in lista:\n",
    "#         yield i\n",
    "\n",
    "\n",
    "# g_144 = gen144()\n",
    "operacao = input().upper()\n",
    "\n",
    "matriz = [[0 for _ in range(12)] for _ in range(12)]\n",
    "soma = 0\n",
    "vezes = 0\n",
    "for i in range(12):\n",
    "    for j in range(12):\n",
    "        num = float(input())\n",
    "        #num = next(g_144)\n",
    "        matriz[i][j] = num\n",
    "        if i < j:\n",
    "            soma += num\n",
    "            vezes += 1\n",
    "            \n",
    "print(\"{:.1f}\".format(soma/vezes))"
   ]
  },
  {
   "cell_type": "code",
   "execution_count": 21,
   "metadata": {},
   "outputs": [
    {
     "name": "stdin",
     "output_type": "stream",
     "text": [
      " m\n"
     ]
    },
    {
     "name": "stdout",
     "output_type": "stream",
     "text": [
      "96.3\n",
      "\n"
     ]
    }
   ],
   "source": [
    "# 1184 - Abaixo da Diagonal Principal\n",
    "\n",
    "# def gen144():\n",
    "#     lista = [_ for _ in range(1,145)]\n",
    "#     for i in lista:\n",
    "#         yield i\n",
    "\n",
    "\n",
    "# g_144 = gen144()\n",
    "operacao = input().upper()\n",
    "\n",
    "matriz = [[0 for _ in range(12)] for _ in range(12)]\n",
    "soma = 0\n",
    "vezes = 0\n",
    "for i in range(12):\n",
    "    for j in range(12):\n",
    "        num = float(input())\n",
    "        # num = next(g_144)\n",
    "        matriz[i][j] = num\n",
    "        if i > j:\n",
    "            soma += num\n",
    "            vezes += 1\n",
    "\n",
    "if operacao == \"S\":\n",
    "    print(\"{:.1f}\".format(soma))\n",
    "else:\n",
    "    print(\"{:.1f}\".format(soma/vezes))"
   ]
  },
  {
   "cell_type": "code",
   "execution_count": 40,
   "metadata": {},
   "outputs": [
    {
     "data": {
      "text/plain": [
       "[['1a', '1b', '1c', '1d', '1e'],\n",
       " ['2a', '2b', '2c', '2d', '2e'],\n",
       " ['3a', '3b', '3c', '3d', '3e'],\n",
       " ['4a', '4b', '4c', '4d', '4e'],\n",
       " ['5a', '5b', '5c', '5d', '5e']]"
      ]
     },
     "execution_count": 40,
     "metadata": {},
     "output_type": "execute_result"
    }
   ],
   "source": [
    "# brincando\n",
    "linha = [1,2,3,4,5]\n",
    "coluna = [\"a\",\"b\",\"c\",\"d\",\"e\"]\n",
    "matriz = [[_ for _ in range(5)] for _ in range(5)]\n",
    "for nc, c in enumerate(coluna):\n",
    "    for nl, l in enumerate(linha):\n",
    "        matriz[nl][nc] = str(l) + str(c) \n",
    "        \n",
    "        \n",
    "matriz"
   ]
  },
  {
   "cell_type": "code",
   "execution_count": 54,
   "metadata": {},
   "outputs": [
    {
     "name": "stdin",
     "output_type": "stream",
     "text": [
      " a\n",
      " a\n"
     ]
    },
    {
     "ename": "ValueError",
     "evalue": "could not convert string to float: 'a'",
     "output_type": "error",
     "traceback": [
      "\u001b[1;31m---------------------------------------------------------------------------\u001b[0m",
      "\u001b[1;31mValueError\u001b[0m                                Traceback (most recent call last)",
      "\u001b[1;32m~\\AppData\\Local\\Temp/ipykernel_19588/1564332195.py\u001b[0m in \u001b[0;36m<module>\u001b[1;34m\u001b[0m\n\u001b[0;32m     15\u001b[0m \u001b[1;32mfor\u001b[0m \u001b[0mi\u001b[0m \u001b[1;32min\u001b[0m \u001b[0mrange\u001b[0m\u001b[1;33m(\u001b[0m\u001b[1;36m12\u001b[0m\u001b[1;33m)\u001b[0m\u001b[1;33m:\u001b[0m\u001b[1;33m\u001b[0m\u001b[1;33m\u001b[0m\u001b[0m\n\u001b[0;32m     16\u001b[0m     \u001b[1;32mfor\u001b[0m \u001b[0mj\u001b[0m \u001b[1;32min\u001b[0m \u001b[0mrange\u001b[0m\u001b[1;33m(\u001b[0m\u001b[1;36m12\u001b[0m\u001b[1;33m)\u001b[0m\u001b[1;33m:\u001b[0m\u001b[1;33m\u001b[0m\u001b[1;33m\u001b[0m\u001b[0m\n\u001b[1;32m---> 17\u001b[1;33m         \u001b[0mnum\u001b[0m \u001b[1;33m=\u001b[0m \u001b[0mfloat\u001b[0m\u001b[1;33m(\u001b[0m\u001b[0minput\u001b[0m\u001b[1;33m(\u001b[0m\u001b[1;33m)\u001b[0m\u001b[1;33m)\u001b[0m\u001b[1;33m\u001b[0m\u001b[1;33m\u001b[0m\u001b[0m\n\u001b[0m\u001b[0;32m     18\u001b[0m         \u001b[1;31m#num = next(g_144)\u001b[0m\u001b[1;33m\u001b[0m\u001b[1;33m\u001b[0m\u001b[0m\n\u001b[0;32m     19\u001b[0m         \u001b[0mmatriz\u001b[0m\u001b[1;33m[\u001b[0m\u001b[0mi\u001b[0m\u001b[1;33m]\u001b[0m\u001b[1;33m[\u001b[0m\u001b[0mj\u001b[0m\u001b[1;33m]\u001b[0m \u001b[1;33m=\u001b[0m \u001b[0mnum\u001b[0m\u001b[1;33m\u001b[0m\u001b[1;33m\u001b[0m\u001b[0m\n",
      "\u001b[1;31mValueError\u001b[0m: could not convert string to float: 'a'"
     ]
    }
   ],
   "source": [
    "# 1185 - Abaixo da Diagonal Principal\n",
    "\n",
    "# def gen144():\n",
    "#     lista = [_ for _ in range(1,145)]\n",
    "#     for i in lista:\n",
    "#         yield i\n",
    "# g_144 = gen144()\n",
    "\n",
    "\n",
    "operacao = input().upper()\n",
    "\n",
    "matriz = [[0 for _ in range(12)] for _ in range(12)]\n",
    "soma = 0\n",
    "vezes = 0\n",
    "for i in range(12):\n",
    "    for j in range(12):\n",
    "        num = float(input())\n",
    "        #num = next(g_144)\n",
    "        matriz[i][j] = num\n",
    "        if i < (11 - j):\n",
    "            #print(\"num: {}\".format(num))\n",
    "            #matriz[i][j] = num\n",
    "            soma += num\n",
    "            vezes += 1\n",
    "\n",
    "if operacao == \"S\":\n",
    "    print(\"{:.1f}\".format(soma))\n",
    "else:\n",
    "    print(\"{:.1f}\".format(soma/vezes))"
   ]
  },
  {
   "cell_type": "code",
   "execution_count": 61,
   "metadata": {},
   "outputs": [
    {
     "name": "stdin",
     "output_type": "stream",
     "text": [
      " S\n"
     ]
    },
    {
     "name": "stdout",
     "output_type": "stream",
     "text": [
      "6644.0\n"
     ]
    }
   ],
   "source": [
    "# 1186 - Acima da Diagonal Principal\n",
    "\n",
    "# def gen144():\n",
    "#     lista = [_ for _ in range(1,145)]\n",
    "#     for i in lista:\n",
    "#         yield i\n",
    "# g_144 = gen144()\n",
    "\n",
    "\n",
    "operacao = input().upper()\n",
    "\n",
    "matriz = [[0 for _ in range(12)] for _ in range(12)]\n",
    "soma = 0\n",
    "vezes = 0\n",
    "for i in range(12):\n",
    "    for j in range(12):\n",
    "        num = float(input())\n",
    "        #num = next(g_144)\n",
    "        matriz[i][j] = num\n",
    "        if i > (11 - j):\n",
    "            soma += num\n",
    "            vezes += 1\n",
    "\n",
    "if operacao == \"S\":\n",
    "    print(\"{:.1f}\".format(soma))\n",
    "else:\n",
    "    print(\"{:.1f}\".format(soma/vezes))"
   ]
  },
  {
   "cell_type": "code",
   "execution_count": 68,
   "metadata": {},
   "outputs": [
    {
     "name": "stdin",
     "output_type": "stream",
     "text": [
      " S\n"
     ]
    },
    {
     "name": "stdout",
     "output_type": "stream",
     "text": [
      "675.0\n"
     ]
    }
   ],
   "source": [
    "# 1187 - Área Superior\n",
    "\n",
    "# def gen144():\n",
    "#     lista = [_ for _ in range(1,145)]\n",
    "#     for i in lista:\n",
    "#         yield i\n",
    "# g_144 = gen144()\n",
    "\n",
    "operacao = input().upper()\n",
    "\n",
    "matriz = [[0 for _ in range(12)] for _ in range(12)]\n",
    "soma = 0\n",
    "vezes = 0\n",
    "for i in range(12):\n",
    "    for j in range(12):\n",
    "        num = float(input())\n",
    "        # num = next(g_144)\n",
    "        matriz[i][j] = num\n",
    "        if i < (11 - j) and i < j:\n",
    "            #print(\"num: {}\".format(num))\n",
    "            #matriz[i][j] = num\n",
    "            soma += num\n",
    "            vezes += 1\n",
    "\n",
    "if operacao == \"S\":\n",
    "    print(\"{:.1f}\".format(soma))\n",
    "else:\n",
    "    print(\"{:.1f}\".format(soma/vezes))"
   ]
  },
  {
   "cell_type": "code",
   "execution_count": 73,
   "metadata": {},
   "outputs": [
    {
     "name": "stdin",
     "output_type": "stream",
     "text": [
      " M\n"
     ]
    },
    {
     "name": "stdout",
     "output_type": "stream",
     "text": [
      "122.5\n"
     ]
    },
    {
     "data": {
      "text/plain": [
       "[['X', 'X', 'X', 'X', 'X', 'X', 'X', 'X', 'X', 'X', 'X', 'X'],\n",
       " ['X', 'X', 'X', 'X', 'X', 'X', 'X', 'X', 'X', 'X', 'X', 'X'],\n",
       " ['X', 'X', 'X', 'X', 'X', 'X', 'X', 'X', 'X', 'X', 'X', 'X'],\n",
       " ['X', 'X', 'X', 'X', 'X', 'X', 'X', 'X', 'X', 'X', 'X', 'X'],\n",
       " ['X', 'X', 'X', 'X', 'X', 'X', 'X', 'X', 'X', 'X', 'X', 'X'],\n",
       " ['X', 'X', 'X', 'X', 'X', 'X', 'X', 'X', 'X', 'X', 'X', 'X'],\n",
       " ['X', 'X', 'X', 'X', 'X', 'X', 'X', 'X', 'X', 'X', 'X', 'X'],\n",
       " ['X', 'X', 'X', 'X', 'X', '0', '0', 'X', 'X', 'X', 'X', 'X'],\n",
       " ['X', 'X', 'X', 'X', '0', '0', '0', '0', 'X', 'X', 'X', 'X'],\n",
       " ['X', 'X', 'X', '0', '0', '0', '0', '0', '0', 'X', 'X', 'X'],\n",
       " ['X', 'X', '0', '0', '0', '0', '0', '0', '0', '0', 'X', 'X'],\n",
       " ['X', '0', '0', '0', '0', '0', '0', '0', '0', '0', '0', 'X']]"
      ]
     },
     "execution_count": 73,
     "metadata": {},
     "output_type": "execute_result"
    }
   ],
   "source": [
    "# 1188 - Área Inferior\n",
    "\n",
    "# def gen144():\n",
    "#     lista = [_ for _ in range(1,145)]\n",
    "#     for i in lista:\n",
    "#         yield i\n",
    "# g_144 = gen144()\n",
    "\n",
    "operacao = input().upper()\n",
    "\n",
    "matriz = [[\"X\" for _ in range(12)] for _ in range(12)]\n",
    "soma = 0\n",
    "vezes = 0\n",
    "for i in range(12):\n",
    "    for j in range(12):\n",
    "        num = float(input())\n",
    "        #num = next(g_144)\n",
    "        matriz[i][j] = num\n",
    "        if i > (11 - j) and i > j:\n",
    "            #print(\"num: {}\".format(num))\n",
    "            #matriz[i][j] = num\n",
    "            soma += num\n",
    "            vezes += 1\n",
    "\n",
    "if operacao == \"S\":\n",
    "    print(\"{:.1f}\".format(soma))\n",
    "else:\n",
    "    print(\"{:.1f}\".format(soma/vezes))"
   ]
  },
  {
   "cell_type": "code",
   "execution_count": 77,
   "metadata": {},
   "outputs": [
    {
     "name": "stdin",
     "output_type": "stream",
     "text": [
      " a\n",
      " a\n"
     ]
    },
    {
     "ename": "ValueError",
     "evalue": "could not convert string to float: 'a'",
     "output_type": "error",
     "traceback": [
      "\u001b[1;31m---------------------------------------------------------------------------\u001b[0m",
      "\u001b[1;31mValueError\u001b[0m                                Traceback (most recent call last)",
      "\u001b[1;32m~\\AppData\\Local\\Temp/ipykernel_19588/3634248606.py\u001b[0m in \u001b[0;36m<module>\u001b[1;34m\u001b[0m\n\u001b[0;32m     14\u001b[0m \u001b[1;32mfor\u001b[0m \u001b[0mi\u001b[0m \u001b[1;32min\u001b[0m \u001b[0mrange\u001b[0m\u001b[1;33m(\u001b[0m\u001b[1;36m12\u001b[0m\u001b[1;33m)\u001b[0m\u001b[1;33m:\u001b[0m\u001b[1;33m\u001b[0m\u001b[1;33m\u001b[0m\u001b[0m\n\u001b[0;32m     15\u001b[0m     \u001b[1;32mfor\u001b[0m \u001b[0mj\u001b[0m \u001b[1;32min\u001b[0m \u001b[0mrange\u001b[0m\u001b[1;33m(\u001b[0m\u001b[1;36m12\u001b[0m\u001b[1;33m)\u001b[0m\u001b[1;33m:\u001b[0m\u001b[1;33m\u001b[0m\u001b[1;33m\u001b[0m\u001b[0m\n\u001b[1;32m---> 16\u001b[1;33m         \u001b[0mnum\u001b[0m \u001b[1;33m=\u001b[0m \u001b[0mfloat\u001b[0m\u001b[1;33m(\u001b[0m\u001b[0minput\u001b[0m\u001b[1;33m(\u001b[0m\u001b[1;33m)\u001b[0m\u001b[1;33m)\u001b[0m\u001b[1;33m\u001b[0m\u001b[1;33m\u001b[0m\u001b[0m\n\u001b[0m\u001b[0;32m     17\u001b[0m         \u001b[1;31m#num = next(g_144)\u001b[0m\u001b[1;33m\u001b[0m\u001b[1;33m\u001b[0m\u001b[0m\n\u001b[0;32m     18\u001b[0m         \u001b[0mmatriz\u001b[0m\u001b[1;33m[\u001b[0m\u001b[0mi\u001b[0m\u001b[1;33m]\u001b[0m\u001b[1;33m[\u001b[0m\u001b[0mj\u001b[0m\u001b[1;33m]\u001b[0m \u001b[1;33m=\u001b[0m \u001b[0mnum\u001b[0m\u001b[1;33m\u001b[0m\u001b[1;33m\u001b[0m\u001b[0m\n",
      "\u001b[1;31mValueError\u001b[0m: could not convert string to float: 'a'"
     ]
    }
   ],
   "source": [
    "# 1189 - Área Esquerda\n",
    "\n",
    "# def gen144():\n",
    "#     lista = [_ for _ in range(1,145)]\n",
    "#     for i in lista:\n",
    "#         yield i\n",
    "# g_144 = gen144()\n",
    "\n",
    "operacao = input().upper()\n",
    "\n",
    "matriz = [[0 for _ in range(12)] for _ in range(12)]\n",
    "soma = 0\n",
    "vezes = 0\n",
    "for i in range(12):\n",
    "    for j in range(12):\n",
    "        num = float(input())\n",
    "        #num = next(g_144)\n",
    "        matriz[i][j] = num\n",
    "        if i < (11 - j) and i > j:\n",
    "            #print(\"num: {}\".format(num))\n",
    "            #matriz[i][j] = num\n",
    "            soma += num\n",
    "            vezes += 1\n",
    "\n",
    "if operacao == \"S\":\n",
    "    print(\"{:.1f}\".format(soma))\n",
    "else:\n",
    "    print(\"{:.1f}\".format(soma/vezes))"
   ]
  },
  {
   "cell_type": "code",
   "execution_count": 78,
   "metadata": {},
   "outputs": [
    {
     "name": "stdin",
     "output_type": "stream",
     "text": [
      " a\n",
      " a\n"
     ]
    },
    {
     "ename": "ValueError",
     "evalue": "could not convert string to float: 'a'",
     "output_type": "error",
     "traceback": [
      "\u001b[1;31m---------------------------------------------------------------------------\u001b[0m",
      "\u001b[1;31mValueError\u001b[0m                                Traceback (most recent call last)",
      "\u001b[1;32m~\\AppData\\Local\\Temp/ipykernel_19588/1072904268.py\u001b[0m in \u001b[0;36m<module>\u001b[1;34m\u001b[0m\n\u001b[0;32m     14\u001b[0m \u001b[1;32mfor\u001b[0m \u001b[0mi\u001b[0m \u001b[1;32min\u001b[0m \u001b[0mrange\u001b[0m\u001b[1;33m(\u001b[0m\u001b[1;36m12\u001b[0m\u001b[1;33m)\u001b[0m\u001b[1;33m:\u001b[0m\u001b[1;33m\u001b[0m\u001b[1;33m\u001b[0m\u001b[0m\n\u001b[0;32m     15\u001b[0m     \u001b[1;32mfor\u001b[0m \u001b[0mj\u001b[0m \u001b[1;32min\u001b[0m \u001b[0mrange\u001b[0m\u001b[1;33m(\u001b[0m\u001b[1;36m12\u001b[0m\u001b[1;33m)\u001b[0m\u001b[1;33m:\u001b[0m\u001b[1;33m\u001b[0m\u001b[1;33m\u001b[0m\u001b[0m\n\u001b[1;32m---> 16\u001b[1;33m         \u001b[0mnum\u001b[0m \u001b[1;33m=\u001b[0m \u001b[0mfloat\u001b[0m\u001b[1;33m(\u001b[0m\u001b[0minput\u001b[0m\u001b[1;33m(\u001b[0m\u001b[1;33m)\u001b[0m\u001b[1;33m)\u001b[0m\u001b[1;33m\u001b[0m\u001b[1;33m\u001b[0m\u001b[0m\n\u001b[0m\u001b[0;32m     17\u001b[0m         \u001b[1;31m#num = next(g_144)\u001b[0m\u001b[1;33m\u001b[0m\u001b[1;33m\u001b[0m\u001b[0m\n\u001b[0;32m     18\u001b[0m         \u001b[0mmatriz\u001b[0m\u001b[1;33m[\u001b[0m\u001b[0mi\u001b[0m\u001b[1;33m]\u001b[0m\u001b[1;33m[\u001b[0m\u001b[0mj\u001b[0m\u001b[1;33m]\u001b[0m \u001b[1;33m=\u001b[0m \u001b[0mnum\u001b[0m\u001b[1;33m\u001b[0m\u001b[1;33m\u001b[0m\u001b[0m\n",
      "\u001b[1;31mValueError\u001b[0m: could not convert string to float: 'a'"
     ]
    }
   ],
   "source": [
    "# 1190 - Área Direita\n",
    "\n",
    "# def gen144():\n",
    "#     lista = [_ for _ in range(1,145)]\n",
    "#     for i in lista:\n",
    "#         yield i\n",
    "# g_144 = gen144()\n",
    "\n",
    "operacao = input().upper()\n",
    "\n",
    "matriz = [[0 for _ in range(12)] for _ in range(12)]\n",
    "soma = 0\n",
    "vezes = 0\n",
    "for i in range(12):\n",
    "    for j in range(12):\n",
    "        num = float(input())\n",
    "        #num = next(g_144)\n",
    "        matriz[i][j] = num\n",
    "        if i > (11 - j) and i < j:\n",
    "            #print(\"num: {}\".format(num))\n",
    "            #matriz[i][j] = num\n",
    "            soma += num\n",
    "            vezes += 1\n",
    "\n",
    "if operacao == \"S\":\n",
    "    print(\"{:.1f}\".format(soma))\n",
    "else:\n",
    "    print(\"{:.1f}\".format(soma/vezes))"
   ]
  },
  {
   "cell_type": "code",
   "execution_count": 11,
   "metadata": {},
   "outputs": [
    {
     "name": "stdin",
     "output_type": "stream",
     "text": [
      " 3\n"
     ]
    },
    {
     "name": "stdout",
     "output_type": "stream",
     "text": [
      "[1, 1, 1]\n",
      "[2, 2, 2]\n",
      "[3, 3, 3]\n"
     ]
    },
    {
     "name": "stdin",
     "output_type": "stream",
     "text": [
      " a\n"
     ]
    },
    {
     "ename": "ValueError",
     "evalue": "invalid literal for int() with base 10: 'a'",
     "output_type": "error",
     "traceback": [
      "\u001b[1;31m---------------------------------------------------------------------------\u001b[0m",
      "\u001b[1;31mValueError\u001b[0m                                Traceback (most recent call last)",
      "\u001b[1;32m~\\AppData\\Local\\Temp/ipykernel_9512/196736701.py\u001b[0m in \u001b[0;36m<module>\u001b[1;34m\u001b[0m\n\u001b[0;32m      2\u001b[0m \u001b[1;33m\u001b[0m\u001b[0m\n\u001b[0;32m      3\u001b[0m \u001b[1;32mwhile\u001b[0m \u001b[1;32mTrue\u001b[0m\u001b[1;33m:\u001b[0m\u001b[1;33m\u001b[0m\u001b[1;33m\u001b[0m\u001b[0m\n\u001b[1;32m----> 4\u001b[1;33m     \u001b[0mn\u001b[0m \u001b[1;33m=\u001b[0m \u001b[0mint\u001b[0m\u001b[1;33m(\u001b[0m\u001b[0minput\u001b[0m\u001b[1;33m(\u001b[0m\u001b[1;33m)\u001b[0m\u001b[1;33m)\u001b[0m\u001b[1;33m\u001b[0m\u001b[1;33m\u001b[0m\u001b[0m\n\u001b[0m\u001b[0;32m      5\u001b[0m     \u001b[1;32mif\u001b[0m \u001b[0mn\u001b[0m \u001b[1;33m==\u001b[0m \u001b[1;36m0\u001b[0m\u001b[1;33m:\u001b[0m\u001b[1;33m\u001b[0m\u001b[1;33m\u001b[0m\u001b[0m\n\u001b[0;32m      6\u001b[0m         \u001b[1;32mbreak\u001b[0m\u001b[1;33m\u001b[0m\u001b[1;33m\u001b[0m\u001b[0m\n",
      "\u001b[1;31mValueError\u001b[0m: invalid literal for int() with base 10: 'a'"
     ]
    }
   ],
   "source": [
    "# 1435 - Matriz Quadrada I\n",
    "\n",
    "while True:\n",
    "    n = int(input())\n",
    "    if n == 0:\n",
    "        break\n",
    "        \n",
    "    matriz = [[\"x\" for _ in range(n)] for _ in range(n)]\n",
    "    inicio = 0\n",
    "    fim = len(matriz[1])\n",
    "    marcador = 1\n",
    "    for i in range(0,n):# linha\n",
    "        for j in range(0,n): # coluna\n",
    "            #print(i,j)\n",
    "            if i == inicio:\n",
    "                matriz[inicio][j] = marcador\n",
    "        \n",
    "            #matriz[1][j] = \"2\"#(j - i)\n",
    "        marcador += 1\n",
    "        inicio += 1\n",
    "        fim -= 1\n",
    "    for i in matriz:\n",
    "        print(i)"
   ]
  },
  {
   "cell_type": "code",
   "execution_count": 12,
   "metadata": {},
   "outputs": [
    {
     "name": "stdin",
     "output_type": "stream",
     "text": [
      " 7\n"
     ]
    },
    {
     "name": "stdout",
     "output_type": "stream",
     "text": [
      "1333332\n",
      "3133323\n",
      "3313233\n",
      "3332333\n",
      "3323133\n",
      "3233313\n",
      "2333331\n"
     ]
    },
    {
     "name": "stdin",
     "output_type": "stream",
     "text": [
      " 4\n"
     ]
    },
    {
     "name": "stdout",
     "output_type": "stream",
     "text": [
      "1332\n",
      "3123\n",
      "3213\n",
      "2331\n"
     ]
    },
    {
     "name": "stdin",
     "output_type": "stream",
     "text": [
      " a\n"
     ]
    },
    {
     "ename": "ValueError",
     "evalue": "invalid literal for int() with base 10: 'a'",
     "output_type": "error",
     "traceback": [
      "\u001b[1;31m---------------------------------------------------------------------------\u001b[0m",
      "\u001b[1;31mValueError\u001b[0m                                Traceback (most recent call last)",
      "\u001b[1;32m~\\AppData\\Local\\Temp/ipykernel_25692/2538037663.py\u001b[0m in \u001b[0;36m<module>\u001b[1;34m\u001b[0m\n\u001b[0;32m      3\u001b[0m \u001b[1;32mwhile\u001b[0m \u001b[1;32mTrue\u001b[0m\u001b[1;33m:\u001b[0m\u001b[1;33m\u001b[0m\u001b[1;33m\u001b[0m\u001b[0m\n\u001b[0;32m      4\u001b[0m     \u001b[1;32mtry\u001b[0m\u001b[1;33m:\u001b[0m\u001b[1;33m\u001b[0m\u001b[1;33m\u001b[0m\u001b[0m\n\u001b[1;32m----> 5\u001b[1;33m         \u001b[0mlado\u001b[0m \u001b[1;33m=\u001b[0m \u001b[0mint\u001b[0m\u001b[1;33m(\u001b[0m\u001b[0minput\u001b[0m\u001b[1;33m(\u001b[0m\u001b[1;33m)\u001b[0m\u001b[1;33m)\u001b[0m\u001b[1;33m\u001b[0m\u001b[1;33m\u001b[0m\u001b[0m\n\u001b[0m\u001b[0;32m      6\u001b[0m         \u001b[0mmatriz\u001b[0m \u001b[1;33m=\u001b[0m \u001b[1;33m[\u001b[0m\u001b[1;33m[\u001b[0m\u001b[1;36m3\u001b[0m \u001b[1;32mfor\u001b[0m \u001b[0m_\u001b[0m \u001b[1;32min\u001b[0m \u001b[0mrange\u001b[0m\u001b[1;33m(\u001b[0m\u001b[0mlado\u001b[0m\u001b[1;33m)\u001b[0m\u001b[1;33m]\u001b[0m \u001b[1;32mfor\u001b[0m \u001b[0m_\u001b[0m \u001b[1;32min\u001b[0m \u001b[0mrange\u001b[0m\u001b[1;33m(\u001b[0m\u001b[0mlado\u001b[0m\u001b[1;33m)\u001b[0m\u001b[1;33m]\u001b[0m\u001b[1;33m\u001b[0m\u001b[1;33m\u001b[0m\u001b[0m\n\u001b[0;32m      7\u001b[0m         \u001b[1;32mfor\u001b[0m \u001b[0mi\u001b[0m \u001b[1;32min\u001b[0m \u001b[0mrange\u001b[0m\u001b[1;33m(\u001b[0m\u001b[0mlado\u001b[0m\u001b[1;33m)\u001b[0m\u001b[1;33m:\u001b[0m\u001b[1;33m\u001b[0m\u001b[1;33m\u001b[0m\u001b[0m\n",
      "\u001b[1;31mValueError\u001b[0m: invalid literal for int() with base 10: 'a'"
     ]
    }
   ],
   "source": [
    "# 1543 - Matriz 123\n",
    "\n",
    "while True:\n",
    "    try:\n",
    "        lado = int(input())\n",
    "        matriz = [[3 for _ in range(lado)] for _ in range(lado)]\n",
    "        for i in range(lado):\n",
    "            for j in range(lado):\n",
    "                if i == lado - (j+1):\n",
    "                    matriz[i][j] = 2\n",
    "                elif i == j:\n",
    "                    matriz[i][j] = 1\n",
    "        \n",
    "        for i in matriz:\n",
    "            for j in i:\n",
    "                print(j,end=\"\")\n",
    "            print()\n",
    "        # print(matriz)\n",
    "    except EOFError:\n",
    "        break"
   ]
  },
  {
   "cell_type": "code",
   "execution_count": 22,
   "metadata": {},
   "outputs": [
    {
     "name": "stdin",
     "output_type": "stream",
     "text": [
      " -7 -3\n",
      "para? 1\n"
     ]
    },
    {
     "name": "stdout",
     "output_type": "stream",
     "text": [
      "q:3 | r:0\n",
      "a:-7\n",
      "(b*q) + r: -9\n",
      "q:3 | r:0\n"
     ]
    }
   ],
   "source": [
    "# 1837 - Prefacio\n",
    "\n",
    "entrada = input().split()\n",
    "b = int(entrada.pop())\n",
    "a = int(entrada.pop())\n",
    "\n",
    "r = a % b\n",
    "q = a // b\n",
    "if 0 > b:\n",
    "    while a == (b*q) + r:\n",
    "        x = int(input(\"para?\"))\n",
    "        q += 1\n",
    "        r += 1\n",
    "        print(f\"q:{q} | r:{r}\")\n",
    "        print(f\"a:{a}\")\n",
    "        print(f\"(b*q) + r: {(b*q) + r}\")\n",
    "        \n",
    "    \n",
    "    \n",
    "    \n",
    "# q = a // b\n",
    "# a = b*q + r\n",
    "# r = a % b\n",
    "\n",
    "# print(q,r)\n",
    "print(f\"q:{q} | r:{r}\")"
   ]
  },
  {
   "cell_type": "code",
   "execution_count": 2,
   "metadata": {},
   "outputs": [
    {
     "name": "stdin",
     "output_type": "stream",
     "text": [
      " 1\n"
     ]
    },
    {
     "name": "stdout",
     "output_type": "stream",
     "text": [
      "vai ter duas!\n"
     ]
    },
    {
     "name": "stdin",
     "output_type": "stream",
     "text": [
      " 2\n"
     ]
    },
    {
     "name": "stdout",
     "output_type": "stream",
     "text": [
      "vai ter duas!\n"
     ]
    },
    {
     "name": "stdin",
     "output_type": "stream",
     "text": [
      " -\n"
     ]
    },
    {
     "ename": "ValueError",
     "evalue": "invalid literal for int() with base 10: '-'",
     "output_type": "error",
     "traceback": [
      "\u001b[1;31m---------------------------------------------------------------------------\u001b[0m",
      "\u001b[1;31mValueError\u001b[0m                                Traceback (most recent call last)",
      "\u001b[1;32m~\\AppData\\Local\\Temp/ipykernel_17040/2529198050.py\u001b[0m in \u001b[0;36m<module>\u001b[1;34m\u001b[0m\n\u001b[0;32m      3\u001b[0m \u001b[1;32mwhile\u001b[0m \u001b[1;32mTrue\u001b[0m\u001b[1;33m:\u001b[0m\u001b[1;33m\u001b[0m\u001b[1;33m\u001b[0m\u001b[0m\n\u001b[0;32m      4\u001b[0m     \u001b[1;32mtry\u001b[0m\u001b[1;33m:\u001b[0m\u001b[1;33m\u001b[0m\u001b[1;33m\u001b[0m\u001b[0m\n\u001b[1;32m----> 5\u001b[1;33m         \u001b[0mcopa\u001b[0m \u001b[1;33m=\u001b[0m \u001b[0mint\u001b[0m\u001b[1;33m(\u001b[0m\u001b[0minput\u001b[0m\u001b[1;33m(\u001b[0m\u001b[1;33m)\u001b[0m\u001b[1;33m)\u001b[0m\u001b[1;33m\u001b[0m\u001b[1;33m\u001b[0m\u001b[0m\n\u001b[0m\u001b[0;32m      6\u001b[0m         \u001b[1;32mif\u001b[0m \u001b[0mcopa\u001b[0m \u001b[1;33m==\u001b[0m \u001b[1;36m0\u001b[0m\u001b[1;33m:\u001b[0m\u001b[1;33m\u001b[0m\u001b[1;33m\u001b[0m\u001b[0m\n\u001b[0;32m      7\u001b[0m             \u001b[0mprint\u001b[0m\u001b[1;33m(\u001b[0m\u001b[1;34m\"vai ter copa!\"\u001b[0m\u001b[1;33m)\u001b[0m\u001b[1;33m\u001b[0m\u001b[1;33m\u001b[0m\u001b[0m\n",
      "\u001b[1;31mValueError\u001b[0m: invalid literal for int() with base 10: '-'"
     ]
    }
   ],
   "source": [
    "# 1564 - Vai Ter Copa?\n",
    "\n",
    "while True:\n",
    "    try:\n",
    "        copa = int(input())\n",
    "        if copa == 0:\n",
    "            print(\"vai ter copa!\")\n",
    "        else:\n",
    "            print(\"vai ter duas!\")\n",
    "    except EOFError:\n",
    "        break"
   ]
  },
  {
   "cell_type": "code",
   "execution_count": 3,
   "metadata": {},
   "outputs": [
    {
     "name": "stdin",
     "output_type": "stream",
     "text": [
      " 3\n",
      " 1 1\n"
     ]
    },
    {
     "name": "stdout",
     "output_type": "stream",
     "text": [
      "2\n"
     ]
    },
    {
     "name": "stdin",
     "output_type": "stream",
     "text": [
      " 2 8\n"
     ]
    },
    {
     "name": "stdout",
     "output_type": "stream",
     "text": [
      "10\n"
     ]
    },
    {
     "name": "stdin",
     "output_type": "stream",
     "text": [
      " 8 2\n"
     ]
    },
    {
     "name": "stdout",
     "output_type": "stream",
     "text": [
      "10\n"
     ]
    }
   ],
   "source": [
    "# 1589 - Bob Conduito\n",
    "\n",
    "rep = int(input())\n",
    "\n",
    "for i in range(rep):\n",
    "    raios = input().split()\n",
    "    r1 = int(raios[0])\n",
    "    r2 = int(raios.pop())\n",
    "    \n",
    "    print(r1+r2)"
   ]
  },
  {
   "cell_type": "code",
   "execution_count": 6,
   "metadata": {},
   "outputs": [
    {
     "name": "stdin",
     "output_type": "stream",
     "text": [
      " 5\n"
     ]
    },
    {
     "name": "stdout",
     "output_type": "stream",
     "text": [
      "Ho Ho Ho Ho Ho!\n"
     ]
    }
   ],
   "source": [
    "# 1759 - Ho Ho Ho\n",
    "\n",
    "qtde_ho = int(input())\n",
    "\n",
    "for ho in range(qtde_ho):\n",
    "    if ho == (qtde_ho - 1):\n",
    "        print(\"Ho\",end=\"\")\n",
    "    else:\n",
    "        print(\"Ho\",end=\" \")\n",
    "    \n",
    "print(\"!\")"
   ]
  },
  {
   "cell_type": "code",
   "execution_count": 18,
   "metadata": {},
   "outputs": [
    {
     "name": "stdin",
     "output_type": "stream",
     "text": [
      " 1\n",
      " 5 15 50 1\n"
     ]
    },
    {
     "name": "stdout",
     "output_type": "stream",
     "text": [
      "3\n"
     ]
    },
    {
     "name": "stdin",
     "output_type": "stream",
     "text": [
      " 0\n",
      " =\n"
     ]
    },
    {
     "ename": "ValueError",
     "evalue": "invalid literal for int() with base 10: '='",
     "output_type": "error",
     "traceback": [
      "\u001b[1;31m---------------------------------------------------------------------------\u001b[0m",
      "\u001b[1;31mValueError\u001b[0m                                Traceback (most recent call last)",
      "\u001b[1;32m~\\AppData\\Local\\Temp/ipykernel_17040/2324260327.py\u001b[0m in \u001b[0;36m<module>\u001b[1;34m\u001b[0m\n\u001b[0;32m      6\u001b[0m         \u001b[0mqtde_l\u001b[0m \u001b[1;33m=\u001b[0m \u001b[0mint\u001b[0m\u001b[1;33m(\u001b[0m\u001b[0minput\u001b[0m\u001b[1;33m(\u001b[0m\u001b[1;33m)\u001b[0m\u001b[1;33m)\u001b[0m\u001b[1;33m\u001b[0m\u001b[1;33m\u001b[0m\u001b[0m\n\u001b[0;32m      7\u001b[0m         \u001b[0mvelocidade\u001b[0m \u001b[1;33m=\u001b[0m \u001b[0minput\u001b[0m\u001b[1;33m(\u001b[0m\u001b[1;33m)\u001b[0m\u001b[1;33m.\u001b[0m\u001b[0msplit\u001b[0m\u001b[1;33m(\u001b[0m\u001b[1;33m)\u001b[0m\u001b[1;33m\u001b[0m\u001b[1;33m\u001b[0m\u001b[0m\n\u001b[1;32m----> 8\u001b[1;33m         \u001b[0mvel_l\u001b[0m \u001b[1;33m=\u001b[0m \u001b[0mlist\u001b[0m\u001b[1;33m(\u001b[0m\u001b[0mmap\u001b[0m\u001b[1;33m(\u001b[0m\u001b[0minterar\u001b[0m\u001b[1;33m,\u001b[0m\u001b[0mvelocidade\u001b[0m\u001b[1;33m)\u001b[0m\u001b[1;33m)\u001b[0m\u001b[1;33m\u001b[0m\u001b[1;33m\u001b[0m\u001b[0m\n\u001b[0m\u001b[0;32m      9\u001b[0m \u001b[1;33m\u001b[0m\u001b[0m\n\u001b[0;32m     10\u001b[0m         \u001b[0mlesma_rapida\u001b[0m \u001b[1;33m=\u001b[0m \u001b[0mvel_l\u001b[0m\u001b[1;33m[\u001b[0m\u001b[1;36m0\u001b[0m\u001b[1;33m]\u001b[0m\u001b[1;33m\u001b[0m\u001b[1;33m\u001b[0m\u001b[0m\n",
      "\u001b[1;32m~\\AppData\\Local\\Temp/ipykernel_17040/2324260327.py\u001b[0m in \u001b[0;36minterar\u001b[1;34m(n)\u001b[0m\n\u001b[0;32m      1\u001b[0m \u001b[1;31m# 1789 - A Corrida de Lesmas\u001b[0m\u001b[1;33m\u001b[0m\u001b[1;33m\u001b[0m\u001b[0m\n\u001b[0;32m      2\u001b[0m \u001b[1;32mdef\u001b[0m \u001b[0minterar\u001b[0m\u001b[1;33m(\u001b[0m\u001b[0mn\u001b[0m\u001b[1;33m)\u001b[0m\u001b[1;33m:\u001b[0m\u001b[1;33m\u001b[0m\u001b[1;33m\u001b[0m\u001b[0m\n\u001b[1;32m----> 3\u001b[1;33m     \u001b[1;32mreturn\u001b[0m \u001b[0mint\u001b[0m\u001b[1;33m(\u001b[0m\u001b[0mn\u001b[0m\u001b[1;33m)\u001b[0m\u001b[1;33m\u001b[0m\u001b[1;33m\u001b[0m\u001b[0m\n\u001b[0m\u001b[0;32m      4\u001b[0m \u001b[1;32mwhile\u001b[0m \u001b[1;32mTrue\u001b[0m\u001b[1;33m:\u001b[0m\u001b[1;33m\u001b[0m\u001b[1;33m\u001b[0m\u001b[0m\n\u001b[0;32m      5\u001b[0m     \u001b[1;32mtry\u001b[0m\u001b[1;33m:\u001b[0m\u001b[1;33m\u001b[0m\u001b[1;33m\u001b[0m\u001b[0m\n",
      "\u001b[1;31mValueError\u001b[0m: invalid literal for int() with base 10: '='"
     ]
    }
   ],
   "source": [
    "# 1789 - A Corrida de Lesmas\n",
    "def interar(n):\n",
    "    return int(n)\n",
    "while True:\n",
    "    try:\n",
    "        qtde_l = int(input())\n",
    "        velocidade = input().split()\n",
    "        vel_l = list(map(interar,velocidade))\n",
    "        \n",
    "        lesma_rapida = vel_l[0]\n",
    "        for lesma in vel_l:\n",
    "            if lesma >= lesma_rapida:\n",
    "                lesma_rapida = lesma\n",
    "                \n",
    "        if lesma_rapida < 10:\n",
    "            print(1)\n",
    "        elif lesma_rapida >= 10 and lesma_rapida < 20:\n",
    "            print(2)\n",
    "        else:\n",
    "            print(3)\n",
    "            \n",
    "    except EOFError:\n",
    "        break"
   ]
  },
  {
   "cell_type": "code",
   "execution_count": 23,
   "metadata": {},
   "outputs": [
    {
     "name": "stdin",
     "output_type": "stream",
     "text": [
      " 2 4 3 2\n"
     ]
    },
    {
     "name": "stdout",
     "output_type": "stream",
     "text": [
      "pos: 0\n",
      "len(tomada_l): 4\n",
      "pos: 1\n",
      "len(tomada_l): 4\n",
      "pos: 2\n",
      "len(tomada_l): 4\n",
      "pos: 3\n",
      "len(tomada_l): 4\n",
      "8\n"
     ]
    }
   ],
   "source": [
    "# 1930 - Tomadas\n",
    "\n",
    "def interar(n):\n",
    "    return int(n)\n",
    "\n",
    "tomadas = input().split()\n",
    "\n",
    "tomada_l = list(map(interar,tomadas))\n",
    "aparelhos = 0\n",
    "\n",
    "for pos,tomada in enumerate(tomada_l):\n",
    "    if pos == len(tomada_l) - 1:\n",
    "        aparelhos += tomada\n",
    "    else:\n",
    "        aparelhos += tomada - 1\n",
    "        \n",
    "print(aparelhos)"
   ]
  },
  {
   "cell_type": "code",
   "execution_count": 12,
   "metadata": {},
   "outputs": [
    {
     "name": "stdin",
     "output_type": "stream",
     "text": [
      " 1\n",
      " aa bb\n"
     ]
    },
    {
     "name": "stdout",
     "output_type": "stream",
     "text": [
      "bb\n",
      "aa\n"
     ]
    }
   ],
   "source": [
    "# 1828 - Bazinga!\n",
    "\n",
    "def ganhou(n):\n",
    "    return f\"Caso #{n}: Bazinga!\"\n",
    "def empatou(n):\n",
    "    return f\"Caso #{n}: De novo!\"\n",
    "def perdeu(n):\n",
    "    return f\"Caso #{n}: Raj trapaceou!\"\n",
    "\n",
    "\n",
    "rep = int(input())\n",
    "\n",
    "for repete in range(1,rep+1):\n",
    "    jogo = input().split()\n",
    "    raj = jogo.pop() # jogo[len(jogo)-1]\n",
    "    sheldon = jogo.pop() # jogo[len(jogo)-2]\n",
    "    \n",
    "    if sheldon == \"tesoura\":\n",
    "        if raj == \"papel\":\n",
    "            print(ganhou(repete))\n",
    "        elif raj == \"lagarto\":\n",
    "            print(ganhou(repete))\n",
    "        elif raj == \"tesoura\":\n",
    "            print(empatou(repete))\n",
    "        else:\n",
    "            print(perdeu(repete)) \n",
    "    if sheldon == \"papel\":\n",
    "        if raj == \"pedra\":\n",
    "            print(ganhou(repete))\n",
    "        elif raj == \"Spock\":\n",
    "            print(ganhou(repete))\n",
    "        elif raj == \"papel\":\n",
    "            print(empatou(repete))\n",
    "        else:\n",
    "            print(perdeu(repete))\n",
    "    if sheldon == \"pedra\":\n",
    "        if raj == \"lagarto\" or raj == \"tesoura\":\n",
    "            print(ganhou(repete))\n",
    "        elif raj == \"pedra\":\n",
    "            print(empatou(repete))\n",
    "        else:\n",
    "            print(perdeu(repete))\n",
    "    if sheldon == \"lagarto\":\n",
    "        if raj == \"Spock\" or raj == \"papel\":\n",
    "            print(ganhou(repete))\n",
    "        elif raj == \"lagarto\":\n",
    "            print(empatou(repete))\n",
    "        else:\n",
    "            print(perdeu(repete))\n",
    "    if sheldon == \"Spock\":\n",
    "        if raj == \"tesoura\" or raj == \"pedra\":\n",
    "            print(ganhou(repete))\n",
    "        elif raj == \"Spock\":\n",
    "            print(empatou(repete))\n",
    "        else:\n",
    "            print(perdeu(repete))"
   ]
  },
  {
   "cell_type": "markdown",
   "metadata": {},
   "source": [
    "#### help do enunciado para exercicio 1847\n",
    "~~Se a temperatura subiu do 1º para o 2º dia, mas desceu ou permaneceu constante do 2º para o 3º, as pessoas ficam tristes (segunda figura).~~<br>\n",
    "~~Se a temperatura subiu do 1º para o 2º dia e do 2º para o 3º, mas subiu do 2º para o 3º menos do que subira do 1º para o 2º, as pessoas ficam tristes (terceira figura).~~<br>\n",
    "~~Se a temperatura subiu do 1º para o 2º dia e do 2º para o 3º, mas subiu do 2º para o 3º no mínimo o tanto que subira do 1º para o 2º, as pessoas ficam felizes (quarta figura).~~<br>\n",
    "~~Se a temperatura desceu do 1º para o 2º dia, mas subiu ou permaneceu constante do 2º para o 3º, as pessoas ficam felizes (primeira figura).~~<br>\n",
    "~~Se a temperatura desceu do 1º para o 2º dia e do 2º para o 3º, mas desceu do 2º para o 3º menos do que descera do 1º para o 2º, as pessoas ficam felizes (quinta figura).~~<br>\n",
    "~~Se a temperatura desceu do 1º para o 2º dia e do 2º para o 3º, mas desceu do 2º para o 3º no mínimo o tanto que descera do 1º para o 2º, as pessoas ficam tristes (sexta figura).~~<br>\n",
    "~~Se a temperatura permaneceu constante do 1º para o 2º dia, as pessoas ficam felizes se subiu do 2º para o 3º dia ou tristes caso contrário (respectivamente, sétima e oitava figuras).~~<br>"
   ]
  },
  {
   "cell_type": "code",
   "execution_count": 16,
   "metadata": {},
   "outputs": [
    {
     "name": "stdin",
     "output_type": "stream",
     "text": [
      "  10 10 2\n"
     ]
    },
    {
     "name": "stdout",
     "output_type": "stream",
     "text": [
      ":(\n"
     ]
    }
   ],
   "source": [
    "# 1847 - Bem-vindos e Bem-vindas ao Inverno!\n",
    "\n",
    "def _i(n):\n",
    "    return int(n)\n",
    "\n",
    "l = input().split()\n",
    "dia1, dia2, dia3 = list(map(_i,l))\n",
    "\n",
    "triste = \":(\" \n",
    "feliz =  \":)\"\n",
    "\n",
    "# se temperatura SUBIU do 1 pro 2\n",
    "if dia2 > dia1:\n",
    "    if dia2 > dia3 or dia2 == dia3:\n",
    "        # segunda feira\n",
    "        print(triste)\n",
    "    elif dia3 > dia2:\n",
    "        if (dia2 - dia1) > (dia3-dia2):\n",
    "            # terceira figura\n",
    "            print(triste)\n",
    "        elif (dia3 - dia2) >= (dia2 - dia1):\n",
    "            # quarta figura\n",
    "            print(feliz)\n",
    "# se temperatura CAIU do 1 pro 2\n",
    "elif dia1 > dia2:\n",
    "    if dia3 >= dia2:\n",
    "        # primeira figura\n",
    "        print(feliz)\n",
    "    elif dia2 > dia3:\n",
    "        if (dia1 - dia2) > (dia2 - dia3):\n",
    "            # quinta figurinha\n",
    "            print(feliz)\n",
    "        elif (dia2 - dia3) >= (dia1-dia2):\n",
    "            # sexta figura\n",
    "            print(triste)\n",
    "# se ficou igual\n",
    "else:\n",
    "    if dia2 < dia3:\n",
    "        # setima figura\n",
    "        print(feliz)\n",
    "    else:\n",
    "        # oitava figura\n",
    "        print(triste)"
   ]
  },
  {
   "cell_type": "code",
   "execution_count": 28,
   "metadata": {},
   "outputs": [
    {
     "name": "stdin",
     "output_type": "stream",
     "text": [
      " --*\n",
      " caw caw\n"
     ]
    },
    {
     "name": "stdout",
     "output_type": "stream",
     "text": [
      "1\n"
     ]
    },
    {
     "name": "stdin",
     "output_type": "stream",
     "text": [
      " *--\n",
      " caw caw\n"
     ]
    },
    {
     "name": "stdout",
     "output_type": "stream",
     "text": [
      "4\n"
     ]
    },
    {
     "name": "stdin",
     "output_type": "stream",
     "text": [
      " caw caw\n"
     ]
    },
    {
     "name": "stdout",
     "output_type": "stream",
     "text": [
      "0\n"
     ]
    }
   ],
   "source": [
    "# 1848 - Corvo Contador\n",
    "\n",
    "contador = 0\n",
    "calculo = 0\n",
    "while contador != 3:\n",
    "    entrada = input()\n",
    "    if entrada == \"caw caw\":\n",
    "        print(calculo)\n",
    "        contador += 1\n",
    "        calculo = 0\n",
    "        if contador == 3:\n",
    "            break\n",
    "    \n",
    "    if entrada[0] == \"*\":\n",
    "        calculo += 4\n",
    "    if entrada[1] == \"*\":\n",
    "        calculo += 2\n",
    "    if entrada[2] == \"*\":\n",
    "        calculo += 1"
   ]
  },
  {
   "cell_type": "code",
   "execution_count": 2,
   "metadata": {},
   "outputs": [
    {
     "name": "stdin",
     "output_type": "stream",
     "text": [
      " 1\n",
      " 1 2 3 4 5 6\n"
     ]
    },
    {
     "name": "stdout",
     "output_type": "stream",
     "text": [
      "1\n"
     ]
    }
   ],
   "source": [
    "# 2006 - Identificando o Chá\n",
    "\n",
    "cha = int(input())\n",
    "chas = input().split(\" \")\n",
    "\n",
    "def interar(n):\n",
    "    return int(n)\n",
    "    \n",
    "chas = list(map(lambda x: int(x),chas)).count(cha)\n",
    "print(chas)\n"
   ]
  },
  {
   "cell_type": "code",
   "execution_count": 3,
   "metadata": {},
   "outputs": [
    {
     "name": "stdin",
     "output_type": "stream",
     "text": [
      " 0\n"
     ]
    },
    {
     "name": "stdout",
     "output_type": "stream",
     "text": [
      "E\n"
     ]
    }
   ],
   "source": [
    "# 2344 - Notas da Prova\n",
    "\n",
    "nota = int(input())\n",
    "\n",
    "# 0 -> E\n",
    "# 1 a 35 -> D\n",
    "# 36 a 60 -> C\n",
    "# 61 a 85 -> B\n",
    "# 86 a 100 -> A\n",
    "\n",
    "if nota == 0:\n",
    "    print(\"E\")\n",
    "elif nota > 0 and nota <= 35:\n",
    "    print(\"D\")\n",
    "elif nota > 35 and nota <= 60:\n",
    "    print(\"C\")\n",
    "elif nota > 60 and nota <= 85:\n",
    "    print(\"B\")\n",
    "elif nota > 85 and nota <= 100:\n",
    "    print(\"A\")"
   ]
  },
  {
   "cell_type": "code",
   "execution_count": 12,
   "metadata": {},
   "outputs": [
    {
     "name": "stdin",
     "output_type": "stream",
     "text": [
      " 2\n",
      " 2\n",
      " 2\n",
      " 2\n",
      " 2\n"
     ]
    },
    {
     "name": "stdout",
     "output_type": "stream",
     "text": [
      "7325\n"
     ]
    }
   ],
   "source": [
    "# 2936 - Quanta Mandioca?\n",
    "\n",
    "dic_man = {\n",
    "    \"curupira\": 300,\n",
    "    \"boitata\":1500,\n",
    "    \"boto\":600,\n",
    "    \"mapinguari\":1000,\n",
    "    \"lara\":150\n",
    "}\n",
    "\n",
    "list_conv = [_ for _ in dic_man.keys()]\n",
    "total_gramas = 225\n",
    "\n",
    "for conv in list_conv:\n",
    "    porcao = int(input())\n",
    "    total_gramas += (dic_man[conv] * porcao)\n",
    "    \n",
    "print(total_gramas)"
   ]
  },
  {
   "cell_type": "code",
   "execution_count": 14,
   "metadata": {},
   "outputs": [
    {
     "name": "stdin",
     "output_type": "stream",
     "text": [
      " 3 5\n",
      " clicou\n",
      " clicou\n",
      " clicou\n",
      " fechou\n",
      " fechou\n"
     ]
    },
    {
     "name": "stdout",
     "output_type": "stream",
     "text": [
      "2\n"
     ]
    }
   ],
   "source": [
    "# 2061 - As Abas de Péricles\n",
    "\n",
    "entrada = input().split(\" \")\n",
    "\n",
    "abas = int(entrada.pop(0))\n",
    "acoes = int(entrada.pop(0))\n",
    "\n",
    "for actions in range(acoes):\n",
    "    acao = input()\n",
    "    if acao == \"clicou\":\n",
    "        abas -= 1\n",
    "    elif acao == \"fechou\":\n",
    "        abas += 1\n",
    "    \n",
    "print(abas)"
   ]
  },
  {
   "cell_type": "code",
   "execution_count": 19,
   "metadata": {},
   "outputs": [
    {
     "name": "stdin",
     "output_type": "stream",
     "text": [
      " 0 0 0 1\n"
     ]
    },
    {
     "name": "stdout",
     "output_type": "stream",
     "text": [
      "4\n"
     ]
    }
   ],
   "source": [
    "# 2791 - Feijão\n",
    "\n",
    "entrada = input().split(\" \")\n",
    "\n",
    "print(entrada.index(\"1\")+1)"
   ]
  },
  {
   "cell_type": "code",
   "execution_count": null,
   "metadata": {},
   "outputs": [],
   "source": []
  }
 ],
 "metadata": {
  "kernelspec": {
   "display_name": "Python 3 (ipykernel)",
   "language": "python",
   "name": "python3"
  },
  "language_info": {
   "codemirror_mode": {
    "name": "ipython",
    "version": 3
   },
   "file_extension": ".py",
   "mimetype": "text/x-python",
   "name": "python",
   "nbconvert_exporter": "python",
   "pygments_lexer": "ipython3",
   "version": "3.10.1"
  }
 },
 "nbformat": 4,
 "nbformat_minor": 4
}
